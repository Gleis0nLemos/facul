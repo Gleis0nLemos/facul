{
  "nbformat": 4,
  "nbformat_minor": 0,
  "metadata": {
    "colab": {
      "provenance": [],
      "collapsed_sections": [
        "sLXrnE_ywIEr"
      ],
      "toc_visible": true
    },
    "kernelspec": {
      "name": "python3",
      "display_name": "Python 3"
    },
    "language_info": {
      "name": "python"
    }
  },
  "cells": [
    {
      "cell_type": "markdown",
      "source": [
        "## MÓDULO 1\n",
        "\n",
        "---\n",
        "\n"
      ],
      "metadata": {
        "id": "sLXrnE_ywIEr"
      }
    },
    {
      "cell_type": "code",
      "execution_count": null,
      "metadata": {
        "id": "n8N7zqDcv9RC",
        "colab": {
          "base_uri": "https://localhost:8080/"
        },
        "outputId": "1b9e9736-45da-40d8-9dea-e14375f8284f"
      },
      "outputs": [
        {
          "name": "stdout",
          "output_type": "stream",
          "text": [
            "Digite um número: 1\n"
          ]
        }
      ],
      "source": [
        "# Implementar uma solução em Python que receba dois números e identifique qual o maior deles\n",
        "\n",
        "num1 = input('Digite um número: ')\n",
        "num2 = input('Digite outro número: ')\n",
        "\n",
        "if num1 > num2:\n",
        "  print('O primeiro número que você digitou é maior que o seu segundo número')\n",
        "\n",
        "elif num1 < num2:\n",
        "  print('O segundo número que você digitou é maior que o seu primeiro número')\n",
        "\n",
        "elif num1 == num2:\n",
        "  print('Os números são iguais, por favor digite números diferentes.')"
      ]
    },
    {
      "cell_type": "code",
      "source": [
        "# Estratégia 01\n",
        "\n",
        "a = 10\n",
        "b = 20 \n",
        "\n",
        "if (a > b):\n",
        "  maior = a\n",
        "else: \n",
        "  maior = b\n",
        "\n",
        "print(f'O maior número é: {maior}')"
      ],
      "metadata": {
        "id": "HiMeCkFFwKxE"
      },
      "execution_count": null,
      "outputs": []
    },
    {
      "cell_type": "code",
      "source": [
        "# Estratégia 02\n",
        "\n",
        "a = 10\n",
        "b = 20 \n",
        "\n",
        "maior = a\n",
        "if (b > maior):\n",
        "  maior = b\n",
        "\n",
        "print(f'O maior número é: {maior}')"
      ],
      "metadata": {
        "id": "SpQfEkZY5cdC"
      },
      "execution_count": null,
      "outputs": []
    },
    {
      "cell_type": "code",
      "source": [
        "# Exercicio 01-Me\n",
        "# Implementar uma solução em Python que verifique se um Número é par ou ímpar\n",
        "\n",
        "numero = 10 # input('Entre com um número: ')\n",
        "\n",
        "if (numero % 2 == 0):\n",
        "  print('Número é par')\n",
        "else:\n",
        "  print('Número é ímpar')"
      ],
      "metadata": {
        "id": "OB5rWgv753A6"
      },
      "execution_count": null,
      "outputs": []
    },
    {
      "cell_type": "code",
      "source": [
        "# Exercício 01\n",
        "\n",
        "numero = 10 \n",
        "\n",
        "if (numero % 2 == 0):\n",
        "  situacao = 'Número é par'\n",
        "else:\n",
        "  situacao = 'Número é ímpar'\n",
        "\n",
        "print(situacao)"
      ],
      "metadata": {
        "id": "dCzA3xQe77Py"
      },
      "execution_count": null,
      "outputs": []
    },
    {
      "cell_type": "code",
      "source": [
        "# Exercicio 02-Me\n",
        "# Implementar uma solução em Python que resolva a seguinte questão:\n",
        "\n",
        "# - Se a nota for maior ou igual a 7, o estudante foi aprovado;\n",
        "# - Se a nota for menor que 7 e maior ou igual a 5, o estudante está em recuperação;\n",
        "# - Se a nota for menor que 5, o estudante está reprovado.\n",
        "\n",
        "nota = 6\n",
        "\n",
        "if (nota >= 7):\n",
        "  print('Estudante foi aprovado')\n",
        "\n",
        "elif (nota >= 5):\n",
        "  print('Estudante está em recuperação')\n",
        "\n",
        "else: \n",
        "  print('Estudante está reprovado')"
      ],
      "metadata": {
        "id": "7DccvvUk9Mk6"
      },
      "execution_count": null,
      "outputs": []
    },
    {
      "cell_type": "code",
      "source": [
        "# Exercício 02\n",
        "\n",
        "media = 8.5\n",
        "\n",
        "if (media >= 7.0):\n",
        "  situacao = \"aprovado\"\n",
        "elif(media>=5.0):\n",
        "  situacao = \"em recuperação\"\n",
        "else: \n",
        "  situacao = \"reprovado\"\n",
        "\n",
        "print(f\"O estudante está: {situacao}\")"
      ],
      "metadata": {
        "id": "xP9OCtzwKiKO"
      },
      "execution_count": null,
      "outputs": []
    },
    {
      "cell_type": "code",
      "source": [
        "# Exercício 03-Me\n",
        "\n",
        "# Implementar uma solução em Python que resolva a seguinte questão:\n",
        "\n",
        "# - Calcular o valor de uma compra, sendo que o preço unitário é R$ 10,00\n",
        "# - Se for feita uma compra de até 10 unidades, não há descontos.\n",
        "# - Para compras entre 11 e 20 unidades é dado um desconto de 10%.\n",
        "# - Acima de 20 unidades, é dado um desconto de 20%\n",
        "\n",
        "preco_unitario = 10.00\n",
        "compra = 50\n",
        "\n",
        "valor = preco_unitario*compra\n",
        "\n",
        "if compra <= 10:\n",
        "  print(f'Valor da compra: R$ {valor}')\n",
        "\n",
        "elif compra >= 11 and compra <= 20:\n",
        "  valor *= 0.9\n",
        "  print(f'Valor da compra: R$ {valor}')\n",
        "\n",
        "else: \n",
        "  valor *= 0.8\n",
        "  print(f'Valor da compra: R$ {valor}')\n"
      ],
      "metadata": {
        "id": "fhI8npaO-0dP"
      },
      "execution_count": null,
      "outputs": []
    },
    {
      "cell_type": "code",
      "source": [
        "# Exercício 03\n",
        "\n",
        "preco_unitario = 10\n",
        "DESCONTO10 = 0.1\n",
        "DESCONTO20 = 0.2\n",
        "quantidade = eval(input(\"Digite a quantidade que vai comprar: \"))\n",
        "if(quantidade <= 10): #menor ou igual a 10\n",
        "  valor_final = preco_unitario*quantidade\n",
        "elif(quantidade <=20): #maior que 10 e menor ou igual a 20\n",
        "  valor_final = preco_unitario*quantidade*(1-DESCONTO10)\n",
        "else: #maior que 20\n",
        "  valor_final = preco_unitario*quantidade*(1-DESCONTO20)\n",
        "\n",
        "print(f'O valor final da compra é: {valor_final}')"
      ],
      "metadata": {
        "id": "lKH-QvOdGV8o"
      },
      "execution_count": null,
      "outputs": []
    },
    {
      "cell_type": "code",
      "source": [
        "# Exercício 04-Me\n",
        "\n",
        "# Implementar uma solução em Python que some todos os números pares de uma lista.\n",
        "\n",
        "# Por exemplo, se a lista for [10, 2, 5, 7, 6, 3], o resultado deve ser igual a 18.\n",
        "\n",
        "lista = [10, 2, 5, 7, 6, 3]\n",
        "soma = 0\n",
        "\n",
        "for i in lista:\n",
        "  if (i % 2 == 0):\n",
        "     soma = soma + i\n",
        "\n",
        "print(soma)\n"
      ],
      "metadata": {
        "id": "r3K3cj9fKFvM",
        "colab": {
          "base_uri": "https://localhost:8080/"
        },
        "outputId": "64c87d9f-db1c-43d6-f0e0-96036b9dfa27"
      },
      "execution_count": null,
      "outputs": [
        {
          "output_type": "stream",
          "name": "stdout",
          "text": [
            "18\n"
          ]
        }
      ]
    },
    {
      "cell_type": "code",
      "source": [
        "# Exercíio 04 - Estratégia 01\n",
        "\n",
        "lista = [10, 2, 5, 7, 6, 3]\n",
        "n=len(lista)\n",
        "soma=0\n",
        "for i in range(n):\n",
        "  if(lista[i]%2==0):\n",
        "    soma=soma+lista[i]\n",
        "print(f'O somatório dos elementos pares da lista é: {soma}')"
      ],
      "metadata": {
        "id": "3iqzrKB9e_RA",
        "colab": {
          "base_uri": "https://localhost:8080/"
        },
        "outputId": "e2e29d83-02f8-460c-fb3e-93e8df109ff7"
      },
      "execution_count": null,
      "outputs": [
        {
          "output_type": "stream",
          "name": "stdout",
          "text": [
            "O somatório dos elementos pares da lista é: 18\n"
          ]
        }
      ]
    },
    {
      "cell_type": "code",
      "source": [
        "# Exercíio 04 - Estratégia 02\n",
        "\n",
        "lista = [10, 2, 5, 7, 6, 3]\n",
        "\n",
        "soma = 0\n",
        "for num in lista:\n",
        "  if(num % 2 == 0):\n",
        "     soma = soma + num\n",
        "print(f'O somatório dos elementos pares da lista é: {soma}')"
      ],
      "metadata": {
        "colab": {
          "base_uri": "https://localhost:8080/"
        },
        "id": "NSCD6srCsVpy",
        "outputId": "30c78a40-b380-4fc6-e267-5ceefb7012d2"
      },
      "execution_count": null,
      "outputs": [
        {
          "output_type": "stream",
          "name": "stdout",
          "text": [
            "O somatório dos elementos pares da lista é: 18\n"
          ]
        }
      ]
    },
    {
      "cell_type": "code",
      "source": [
        "# if <condição 1>:\n",
        "#     Bloco de código que será executado caso condição seja True\n",
        "#  elif <condição 2>:\n",
        "#     Bloco de código que será executado caso condição 1 seja False e condição 2 seja True\n",
        "#  else:\n",
        "#     Bloco de código que será executado caso condição 1 seja False e condição 2 seja False\n",
        "#  Instrução fora do if"
      ],
      "metadata": {
        "id": "6z7pFCg5wTk7"
      },
      "execution_count": null,
      "outputs": []
    },
    {
      "cell_type": "code",
      "source": [
        "# for <variável> in <sequência>:\n",
        "#      Bloco que será repetido para todos os itens da sequência\n",
        "#  Instrução fora do for"
      ],
      "metadata": {
        "id": "CkJcwubOwhoP"
      },
      "execution_count": null,
      "outputs": []
    },
    {
      "cell_type": "code",
      "source": [
        "# Somar o nome do usuário\n",
        "\n",
        "nome = input('Escreva seu nome aqui: ')\n",
        "\n",
        "for i in nome:\n",
        "  print(i)"
      ],
      "metadata": {
        "id": "w7HoKHbkyYT1",
        "colab": {
          "base_uri": "https://localhost:8080/"
        },
        "outputId": "80ac8b66-04ab-4831-b51b-2e27fd6485cd"
      },
      "execution_count": null,
      "outputs": [
        {
          "output_type": "stream",
          "name": "stdout",
          "text": [
            "Escreva seu nome aqui: Gleison\n",
            "G\n",
            "l\n",
            "e\n",
            "i\n",
            "s\n",
            "o\n",
            "n\n"
          ]
        }
      ]
    },
    {
      "cell_type": "code",
      "source": [
        "nomes = ['Laura', 'Lis', 'Guilherme', 'Enzo', 'Arthur']\n",
        "for nome in nomes[0]:\n",
        "    print(nome)\n"
      ],
      "metadata": {
        "colab": {
          "base_uri": "https://localhost:8080/"
        },
        "id": "m1sfEyydQJtb",
        "outputId": "280ca4d4-2eb3-472e-e699-1ec21156a7c1"
      },
      "execution_count": null,
      "outputs": [
        {
          "output_type": "stream",
          "name": "stdout",
          "text": [
            "L\n",
            "a\n",
            "u\n",
            "r\n",
            "a\n"
          ]
        }
      ]
    },
    {
      "cell_type": "code",
      "source": [
        "while True:\n",
        "    print('Você está no primeiro laço.')\n",
        "    opcao1 = input('Deseja sair dele? Digite SIM para isso. \\n')\n",
        "    if opcao1 == 'SIM':\n",
        "        break  # este break é do primeiro laço\n",
        "    else:\n",
        "        while True:\n",
        "            print('Você está no segundo laço.')\n",
        "            opcao2 = input('Deseja sair dele? Digite SIM para isso. \\n')\n",
        "            if opcao2 == 'SIM':\n",
        "                break  # este break é do segundo laço\n",
        "        print('Você saiu do segundo laço.')\n",
        "print('Você saiu do primeiro laço')"
      ],
      "metadata": {
        "colab": {
          "base_uri": "https://localhost:8080/"
        },
        "id": "Zl5z_qfxRreC",
        "outputId": "32539dc2-cc35-457f-b089-56d16c5cd6e8"
      },
      "execution_count": null,
      "outputs": [
        {
          "output_type": "stream",
          "name": "stdout",
          "text": [
            "Você está no primeiro laço.\n",
            "Deseja sair dele? Digite SIM para isso. \n",
            "sim\n",
            "Você está no segundo laço.\n",
            "Deseja sair dele? Digite SIM para isso. \n",
            "hm\n",
            "Você está no segundo laço.\n",
            "Deseja sair dele? Digite SIM para isso. \n",
            "SIM\n",
            "Você saiu do segundo laço.\n",
            "Você está no primeiro laço.\n",
            "Deseja sair dele? Digite SIM para isso. \n",
            "sim\n",
            "Você está no segundo laço.\n",
            "Deseja sair dele? Digite SIM para isso. \n",
            "SIM\n",
            "Você saiu do segundo laço.\n",
            "Você está no primeiro laço.\n",
            "Deseja sair dele? Digite SIM para isso. \n",
            "SIM\n",
            "Você saiu do primeiro laço\n"
          ]
        }
      ]
    },
    {
      "cell_type": "code",
      "source": [
        "for i in range(1, 11):\n",
        "  if i == 5:\n",
        "    break\n",
        "  else:\n",
        "    print(i)"
      ],
      "metadata": {
        "colab": {
          "base_uri": "https://localhost:8080/"
        },
        "id": "5iBY9rtfVQgC",
        "outputId": "4452d7d1-9903-47da-ce91-dcaaaf038ae2"
      },
      "execution_count": null,
      "outputs": [
        {
          "output_type": "stream",
          "name": "stdout",
          "text": [
            "1\n",
            "2\n",
            "3\n",
            "4\n"
          ]
        }
      ]
    },
    {
      "cell_type": "code",
      "source": [
        "for i in range(1, 11):\n",
        "  if not i % 2 == 0:\n",
        "    print(i)"
      ],
      "metadata": {
        "colab": {
          "base_uri": "https://localhost:8080/"
        },
        "id": "v38UvsG_aDlS",
        "outputId": "11198a53-3e31-4d3d-a89f-0afc9edd9a8a"
      },
      "execution_count": null,
      "outputs": [
        {
          "output_type": "stream",
          "name": "stdout",
          "text": [
            "1\n",
            "3\n",
            "5\n",
            "7\n",
            "9\n"
          ]
        }
      ]
    },
    {
      "cell_type": "code",
      "source": [
        "s = 0\n",
        "for i in range(5):\n",
        "    s += 3*i # s = s + 3*i\n",
        "    print(s)\n",
        "print(s)"
      ],
      "metadata": {
        "colab": {
          "base_uri": "https://localhost:8080/"
        },
        "id": "ra8D6V2_bDrv",
        "outputId": "18d40091-005c-4dfa-ba85-e2b16cc62b70"
      },
      "execution_count": null,
      "outputs": [
        {
          "output_type": "stream",
          "name": "stdout",
          "text": [
            "0\n",
            "3\n",
            "9\n",
            "18\n",
            "30\n",
            "30\n"
          ]
        }
      ]
    },
    {
      "cell_type": "code",
      "source": [
        "s = 0\n",
        "a = 1\n",
        "while s < 5:\n",
        "  s = 3*a\n",
        "  a += 1\n",
        "  print(s)\n",
        "  print(a, 'hm')  "
      ],
      "metadata": {
        "colab": {
          "base_uri": "https://localhost:8080/"
        },
        "id": "mznrmPhLb8_h",
        "outputId": "13dbae0f-c1ef-4443-8075-4bc3159bed14"
      },
      "execution_count": null,
      "outputs": [
        {
          "output_type": "stream",
          "name": "stdout",
          "text": [
            "3\n",
            "2 hm\n",
            "6\n",
            "3 hm\n"
          ]
        }
      ]
    },
    {
      "cell_type": "markdown",
      "source": [
        "## MÓDULO 2\n",
        "\n",
        "---"
      ],
      "metadata": {
        "id": "aeL71qr1f_fq"
      }
    },
    {
      "cell_type": "code",
      "source": [
        "# Exemplo-Me\n",
        "\n",
        "# Implementar uma solução em Python que retorne o menor elemento de uma lista.\n",
        "\n",
        "def minimo(lista):\n",
        "\n",
        "  for i in lista:\n",
        "    if i == min(lista):\n",
        "      print(f'O menor elemento da lista é: {i}')\n",
        "\n",
        "# lista_teste = [1, 11, 8, 4, 2]\n",
        "# menor = minimo(lista_teste)"
      ],
      "metadata": {
        "id": "96Rx4LtmgB2Q"
      },
      "execution_count": null,
      "outputs": []
    },
    {
      "cell_type": "code",
      "source": [
        "# Solução do Exemplo\n",
        "\n",
        "def encontrar_minimo(lista):\n",
        "    minimo = lista[0]\n",
        "    print(minimo)\n",
        "    for elem in lista:\n",
        "      if(elem < minimo):\n",
        "        print(elem, 'elem')\n",
        "        print(minimo, 'min')\n",
        "        minimo = elem\n",
        "        print(minimo, 'minimo')\n",
        "    return minimo"
      ],
      "metadata": {
        "id": "8KkFBqMQggcK"
      },
      "execution_count": null,
      "outputs": []
    },
    {
      "cell_type": "code",
      "source": [
        "lista_teste = [11, 10, 3, 1, 4, 5]\n",
        "menor = encontrar_minimo(lista_teste)\n",
        "print(\"O menor elemento da lista é: [{}]\". format(menor))"
      ],
      "metadata": {
        "colab": {
          "base_uri": "https://localhost:8080/"
        },
        "id": "Y-P2W7j9rUX-",
        "outputId": "22fe8a8e-478a-4cba-fb87-f6936e5b9b5d"
      },
      "execution_count": null,
      "outputs": [
        {
          "output_type": "stream",
          "name": "stdout",
          "text": [
            "11\n",
            "10 elem\n",
            "11 min\n",
            "10 minimo\n",
            "3 elem\n",
            "10 min\n",
            "3 minimo\n",
            "1 elem\n",
            "3 min\n",
            "1 minimo\n",
            "O menor elemento da lista é: [1]\n"
          ]
        }
      ]
    },
    {
      "cell_type": "code",
      "source": [
        "# Exercício 01-Me\n",
        "\n",
        "# Implementar uma solução em Python que retorne a soma de todos os elementos pares de \n",
        "# uma lista.\n",
        "\n",
        "def find_par(lista):\n",
        "\n",
        "  soma = 0\n",
        "  for i in lista:\n",
        "\n",
        "    if i % 2 == 0:\n",
        "      soma = soma + i\n",
        "\n",
        "  return soma\n",
        "\n",
        "lista = [10, 2, 5, 7, 6, 3]\n",
        "find_par(lista)"
      ],
      "metadata": {
        "colab": {
          "base_uri": "https://localhost:8080/"
        },
        "id": "JEpiHIdarzIQ",
        "outputId": "13ffbfb1-90fb-40c6-f25c-af778bbc69ff"
      },
      "execution_count": null,
      "outputs": [
        {
          "output_type": "execute_result",
          "data": {
            "text/plain": [
              "18"
            ]
          },
          "metadata": {},
          "execution_count": 116
        }
      ]
    },
    {
      "cell_type": "code",
      "source": [
        "# Solução do Exercício 01\n",
        "\n",
        "def ehPar(n):\n",
        "  r = (n%2==0)\n",
        "  return r "
      ],
      "metadata": {
        "id": "lgUaXehyyAlc"
      },
      "execution_count": null,
      "outputs": []
    },
    {
      "cell_type": "code",
      "source": [
        "\n",
        "def somar_par(lst):\n",
        "  soma = 0\n",
        "  for num in lst:\n",
        "    if(ehPar(num)):\n",
        "      soma = soma+num\n",
        "\n",
        "  return soma"
      ],
      "metadata": {
        "id": "UvMHOSCz-zUM"
      },
      "execution_count": null,
      "outputs": []
    },
    {
      "cell_type": "code",
      "source": [
        "lista = [10, 2, 5, 7, 6, 3]\n",
        "soma = somar_par(lista)\n",
        "print(f'O somatório dos elementos pares da lista é: {soma}')"
      ],
      "metadata": {
        "colab": {
          "base_uri": "https://localhost:8080/"
        },
        "id": "BkhA4-wz-zf0",
        "outputId": "c679351f-dc58-40c1-ba6b-880e746fe02b"
      },
      "execution_count": null,
      "outputs": [
        {
          "output_type": "stream",
          "name": "stdout",
          "text": [
            "O somatório dos elementos pares da lista é: 18\n"
          ]
        }
      ]
    },
    {
      "cell_type": "code",
      "source": [
        "# Exercício 02\n",
        "\n",
        "# Implementar uma solução em Python que calcule o fatorial de um número.\n",
        "\n",
        "def fatorial(n):\n",
        " \n",
        "  if n == 0:\n",
        "    return 1\n",
        "  \n",
        "  else: \n",
        "    return n * fatorial(n-1)\n",
        "\n",
        "ex = fatorial(3)\n",
        "print(ex)"
      ],
      "metadata": {
        "colab": {
          "base_uri": "https://localhost:8080/"
        },
        "id": "0fHIm1tP_CiE",
        "outputId": "e8505af5-5287-4c62-af8c-0a987b3ce58a"
      },
      "execution_count": null,
      "outputs": [
        {
          "output_type": "stream",
          "name": "stdout",
          "text": [
            "6\n"
          ]
        }
      ]
    },
    {
      "cell_type": "code",
      "source": [
        "def fatorial(n):\n",
        "    if n == 0:\n",
        "        return 1\n",
        "    else:\n",
        "        return n * fatorial(n-1)\n",
        "\n",
        "ex = fatorial(1)\n",
        "print(ex)"
      ],
      "metadata": {
        "colab": {
          "base_uri": "https://localhost:8080/"
        },
        "id": "WZsXBCM2CIp0",
        "outputId": "721c7c2d-8eda-4a5d-f817-c14c670a751a"
      },
      "execution_count": null,
      "outputs": [
        {
          "output_type": "stream",
          "name": "stdout",
          "text": [
            "1\n"
          ]
        }
      ]
    },
    {
      "cell_type": "code",
      "source": [
        "# Estratégia 01  \n",
        "\n",
        "def fatorial_iterativo(n):\n",
        "  f = 1\n",
        "  for i in range(1, n+1):\n",
        "    f=f*i\n",
        "  return f"
      ],
      "metadata": {
        "id": "EcQ_kOGhCKNF"
      },
      "execution_count": null,
      "outputs": []
    },
    {
      "cell_type": "code",
      "source": [
        "# Estratégia 02\n",
        "\n",
        "def fatorial_recursivo(n):\n",
        "  if((n==0) or (n==1)):\n",
        "    return 1\n",
        "  return n*fatorial_recursivo(n-1)"
      ],
      "metadata": {
        "id": "qE-sFZ4be0Kz"
      },
      "execution_count": null,
      "outputs": []
    },
    {
      "cell_type": "code",
      "source": [
        "numero = 5\n",
        "print(f'O fatorial de {numero}: é {fatorial_iterativo(numero)}')\n",
        "print(f'O fatorial de {numero}: é {fatorial_recursivo(numero)}')"
      ],
      "metadata": {
        "colab": {
          "base_uri": "https://localhost:8080/"
        },
        "id": "2P7rS7gwfImD",
        "outputId": "5768b6d5-47a3-4b8e-d7e4-9da74972c2f8"
      },
      "execution_count": null,
      "outputs": [
        {
          "output_type": "stream",
          "name": "stdout",
          "text": [
            "O fatorial de 5: é 120\n",
            "O fatorial de 5: é 120\n"
          ]
        }
      ]
    },
    {
      "cell_type": "code",
      "source": [
        "# Exercício 03\n",
        " \n",
        "# Implementar uma solução em Python que determine se um Número é ou náo Primo.\n",
        "\n",
        "def num_primo(n):\n",
        "\n",
        "    if n < 2:\n",
        "        return False\n",
        "    for i in range(2, int(n**0.5) + 1):\n",
        "        if n % i == 0:\n",
        "            return False\n",
        "    return True\n",
        "\n",
        "teste = num_primo(4)\n",
        "print(teste)"
      ],
      "metadata": {
        "colab": {
          "base_uri": "https://localhost:8080/"
        },
        "id": "wcQPRp9vferN",
        "outputId": "5565b089-1b28-4ee4-a71a-ece5a4040e4c"
      },
      "execution_count": null,
      "outputs": [
        {
          "output_type": "stream",
          "name": "stdout",
          "text": [
            "False\n"
          ]
        }
      ]
    },
    {
      "cell_type": "code",
      "source": [
        "# Solução do Exercício 03\n",
        "\n",
        "def eh_primo(n):\n",
        "  if(n<2):\n",
        "    return False\n",
        "  i=n//2\n",
        "  while(i>1):\n",
        "    if(n%1==0):\n",
        "      return False\n",
        "    i=i-1\n",
        "  return True"
      ],
      "metadata": {
        "id": "djfnUJc8j2Cq"
      },
      "execution_count": null,
      "outputs": []
    },
    {
      "cell_type": "code",
      "source": [
        "def imprimir_resultado(numero, resultado):\n",
        "  mensagem = f'O número {numero} náo é Primo'\n",
        "  if(resultado):\n",
        "    mensagem = f'O número {numero} é Primo'\n",
        "  return mensagem "
      ],
      "metadata": {
        "id": "pS0deC58kCDz"
      },
      "execution_count": null,
      "outputs": []
    },
    {
      "cell_type": "code",
      "source": [
        "numero = 7\n",
        "resultado = eh_primo(numero)\n",
        "msg = imprimir_resultado(numero, resultado)\n",
        "print(msg)"
      ],
      "metadata": {
        "id": "qk2F8LDN8HAM",
        "colab": {
          "base_uri": "https://localhost:8080/"
        },
        "outputId": "83b52565-79a8-4a7f-d0df-5784f111ae11"
      },
      "execution_count": null,
      "outputs": [
        {
          "output_type": "stream",
          "name": "stdout",
          "text": [
            "O número 7 náo é Primo\n"
          ]
        }
      ]
    },
    {
      "cell_type": "code",
      "source": [
        "escolha = input(\"Escolha uma opção de função: 1 ou 2\\n\")\n",
        "if escolha == \"1\":\n",
        "    def func1(x):\n",
        "        return x + 1\n",
        "    s = func1(10)\n",
        "\n",
        "else:\n",
        "    def func2(x):\n",
        "        return x + 2\n",
        "    s = func2(10)\n",
        "\n",
        "print(s)"
      ],
      "metadata": {
        "colab": {
          "base_uri": "https://localhost:8080/"
        },
        "id": "I1TU1e0aV-Vm",
        "outputId": "1dca8e18-e90e-4b53-9691-03a490590477"
      },
      "execution_count": null,
      "outputs": [
        {
          "output_type": "stream",
          "name": "stdout",
          "text": [
            "Escolha uma opção de função: 1 ou 2\n",
            "1\n",
            "11\n"
          ]
        }
      ]
    },
    {
      "cell_type": "code",
      "source": [
        "def soma_naturais(n):\n",
        "    if n == 1:\n",
        "        return 1\n",
        "    else:\n",
        "        return n + soma_naturais(n - 1)\n",
        "\n",
        "print(soma_naturais(5)) # Output: 15 (1 + 2 + 3 + 4 + 5 = 15)"
      ],
      "metadata": {
        "id": "06oZeQidiTwq",
        "colab": {
          "base_uri": "https://localhost:8080/"
        },
        "outputId": "c92a83df-546d-45ac-b4ad-2f38d39da87c"
      },
      "execution_count": 4,
      "outputs": [
        {
          "output_type": "stream",
          "name": "stdout",
          "text": [
            "15\n"
          ]
        }
      ]
    },
    {
      "cell_type": "code",
      "source": [
        "def fibonacci(n):\n",
        "    if n <= 0:\n",
        "        return 0\n",
        "    elif n == 1:\n",
        "        return 1\n",
        "    else:\n",
        "        hm = fibonacci(n-1) + fibonacci(n-2)\n",
        "        print(hm)\n",
        "        return hm # fibonacci(n-1) + fibonacci(n-2)\n",
        "\n",
        "print(fibonacci(6)) # Output: 8 (1, 1, 2, 3, 5, 8...)"
      ],
      "metadata": {
        "colab": {
          "base_uri": "https://localhost:8080/"
        },
        "id": "QQYSyscfz7kE",
        "outputId": "2568532e-8a13-4c69-9f94-8310adaf20c8"
      },
      "execution_count": 2,
      "outputs": [
        {
          "output_type": "stream",
          "name": "stdout",
          "text": [
            "1\n",
            "2\n",
            "1\n",
            "3\n",
            "1\n",
            "2\n",
            "5\n",
            "1\n",
            "2\n",
            "1\n",
            "3\n",
            "8\n",
            "8\n"
          ]
        }
      ]
    },
    {
      "cell_type": "code",
      "source": [
        "def func1(x):\n",
        "     x = 10\n",
        "     print(x)\n",
        "\n",
        "\n",
        "x = 0\n",
        "print(x)\n",
        "func1(x)\n",
        "print(x)"
      ],
      "metadata": {
        "colab": {
          "base_uri": "https://localhost:8080/"
        },
        "id": "cSRTsBRHQ1dj",
        "outputId": "3811a580-f3e9-4de7-ab87-72053f55e469"
      },
      "execution_count": 4,
      "outputs": [
        {
          "output_type": "stream",
          "name": "stdout",
          "text": [
            "0\n",
            "10\n",
            "0\n"
          ]
        }
      ]
    },
    {
      "cell_type": "code",
      "source": [
        "def rec(n):\n",
        "     if n < 2:\n",
        "        return rec(n - 1)\n",
        "\n",
        "\n",
        "print(rec(1))"
      ],
      "metadata": {
        "colab": {
          "base_uri": "https://localhost:8080/",
          "height": 415
        },
        "id": "ZIXCwJ_vWIj2",
        "outputId": "b8279985-4e89-4b6c-cb5a-c6ab2a611c1b"
      },
      "execution_count": 7,
      "outputs": [
        {
          "output_type": "error",
          "ename": "RecursionError",
          "evalue": "ignored",
          "traceback": [
            "\u001b[0;31m---------------------------------------------------------------------------\u001b[0m",
            "\u001b[0;31mRecursionError\u001b[0m                            Traceback (most recent call last)",
            "\u001b[0;32m<ipython-input-7-8e7cf50e4d8a>\u001b[0m in \u001b[0;36m<module>\u001b[0;34m\u001b[0m\n\u001b[1;32m      4\u001b[0m \u001b[0;34m\u001b[0m\u001b[0m\n\u001b[1;32m      5\u001b[0m \u001b[0;34m\u001b[0m\u001b[0m\n\u001b[0;32m----> 6\u001b[0;31m \u001b[0mprint\u001b[0m\u001b[0;34m(\u001b[0m\u001b[0mrec\u001b[0m\u001b[0;34m(\u001b[0m\u001b[0;36m1\u001b[0m\u001b[0;34m)\u001b[0m\u001b[0;34m)\u001b[0m\u001b[0;34m\u001b[0m\u001b[0;34m\u001b[0m\u001b[0m\n\u001b[0m",
            "\u001b[0;32m<ipython-input-7-8e7cf50e4d8a>\u001b[0m in \u001b[0;36mrec\u001b[0;34m(n)\u001b[0m\n\u001b[1;32m      1\u001b[0m \u001b[0;32mdef\u001b[0m \u001b[0mrec\u001b[0m\u001b[0;34m(\u001b[0m\u001b[0mn\u001b[0m\u001b[0;34m)\u001b[0m\u001b[0;34m:\u001b[0m\u001b[0;34m\u001b[0m\u001b[0;34m\u001b[0m\u001b[0m\n\u001b[1;32m      2\u001b[0m      \u001b[0;32mif\u001b[0m \u001b[0mn\u001b[0m \u001b[0;34m<\u001b[0m \u001b[0;36m2\u001b[0m\u001b[0;34m:\u001b[0m\u001b[0;34m\u001b[0m\u001b[0;34m\u001b[0m\u001b[0m\n\u001b[0;32m----> 3\u001b[0;31m         \u001b[0;32mreturn\u001b[0m \u001b[0mrec\u001b[0m\u001b[0;34m(\u001b[0m\u001b[0mn\u001b[0m \u001b[0;34m-\u001b[0m \u001b[0;36m1\u001b[0m\u001b[0;34m)\u001b[0m\u001b[0;34m\u001b[0m\u001b[0;34m\u001b[0m\u001b[0m\n\u001b[0m\u001b[1;32m      4\u001b[0m \u001b[0;34m\u001b[0m\u001b[0m\n\u001b[1;32m      5\u001b[0m \u001b[0;34m\u001b[0m\u001b[0m\n",
            "... last 1 frames repeated, from the frame below ...\n",
            "\u001b[0;32m<ipython-input-7-8e7cf50e4d8a>\u001b[0m in \u001b[0;36mrec\u001b[0;34m(n)\u001b[0m\n\u001b[1;32m      1\u001b[0m \u001b[0;32mdef\u001b[0m \u001b[0mrec\u001b[0m\u001b[0;34m(\u001b[0m\u001b[0mn\u001b[0m\u001b[0;34m)\u001b[0m\u001b[0;34m:\u001b[0m\u001b[0;34m\u001b[0m\u001b[0;34m\u001b[0m\u001b[0m\n\u001b[1;32m      2\u001b[0m      \u001b[0;32mif\u001b[0m \u001b[0mn\u001b[0m \u001b[0;34m<\u001b[0m \u001b[0;36m2\u001b[0m\u001b[0;34m:\u001b[0m\u001b[0;34m\u001b[0m\u001b[0;34m\u001b[0m\u001b[0m\n\u001b[0;32m----> 3\u001b[0;31m         \u001b[0;32mreturn\u001b[0m \u001b[0mrec\u001b[0m\u001b[0;34m(\u001b[0m\u001b[0mn\u001b[0m \u001b[0;34m-\u001b[0m \u001b[0;36m1\u001b[0m\u001b[0;34m)\u001b[0m\u001b[0;34m\u001b[0m\u001b[0;34m\u001b[0m\u001b[0m\n\u001b[0m\u001b[1;32m      4\u001b[0m \u001b[0;34m\u001b[0m\u001b[0m\n\u001b[1;32m      5\u001b[0m \u001b[0;34m\u001b[0m\u001b[0m\n",
            "\u001b[0;31mRecursionError\u001b[0m: maximum recursion depth exceeded in comparison"
          ]
        }
      ]
    }
  ]
}