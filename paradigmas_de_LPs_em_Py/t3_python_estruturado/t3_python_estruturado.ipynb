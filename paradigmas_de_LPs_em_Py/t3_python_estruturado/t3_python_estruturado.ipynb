{
  "nbformat": 4,
  "nbformat_minor": 0,
  "metadata": {
    "colab": {
      "provenance": [],
      "collapsed_sections": [
        "sLXrnE_ywIEr",
        "aeL71qr1f_fq"
      ]
    },
    "kernelspec": {
      "name": "python3",
      "display_name": "Python 3"
    },
    "language_info": {
      "name": "python"
    }
  },
  "cells": [
    {
      "cell_type": "markdown",
      "source": [
        "### Imports\n",
        "\n",
        "---\n",
        "\n",
        "\n"
      ],
      "metadata": {
        "id": "hL9H0-ejH44E"
      }
    },
    {
      "cell_type": "code",
      "source": [
        "import numpy as np\n",
        "import matplotlib.pyplot as plt\n",
        "import pandas as pd\n",
        "import seaborn as sns\n",
        "import time\n",
        "import math\n",
        "import smtplib\n",
        "from email.mime.text import MIMEText\n",
        "import email.message"
      ],
      "metadata": {
        "id": "ggxY3eYdICPI"
      },
      "execution_count": 6,
      "outputs": []
    },
    {
      "cell_type": "markdown",
      "source": [
        "## MÓDULO 1\n",
        "\n",
        "---\n",
        "\n"
      ],
      "metadata": {
        "id": "sLXrnE_ywIEr"
      }
    },
    {
      "cell_type": "code",
      "execution_count": null,
      "metadata": {
        "id": "n8N7zqDcv9RC",
        "colab": {
          "base_uri": "https://localhost:8080/"
        },
        "outputId": "1b9e9736-45da-40d8-9dea-e14375f8284f"
      },
      "outputs": [
        {
          "name": "stdout",
          "output_type": "stream",
          "text": [
            "Digite um número: 1\n"
          ]
        }
      ],
      "source": [
        "# Implementar uma solução em Python que receba dois números e identifique qual o maior deles\n",
        "\n",
        "num1 = input('Digite um número: ')\n",
        "num2 = input('Digite outro número: ')\n",
        "\n",
        "if num1 > num2:\n",
        "  print('O primeiro número que você digitou é maior que o seu segundo número')\n",
        "\n",
        "elif num1 < num2:\n",
        "  print('O segundo número que você digitou é maior que o seu primeiro número')\n",
        "\n",
        "elif num1 == num2:\n",
        "  print('Os números são iguais, por favor digite números diferentes.')"
      ]
    },
    {
      "cell_type": "code",
      "source": [
        "# Estratégia 01\n",
        "\n",
        "a = 10\n",
        "b = 20 \n",
        "\n",
        "if (a > b):\n",
        "  maior = a\n",
        "else: \n",
        "  maior = b\n",
        "\n",
        "print(f'O maior número é: {maior}')"
      ],
      "metadata": {
        "id": "HiMeCkFFwKxE"
      },
      "execution_count": null,
      "outputs": []
    },
    {
      "cell_type": "code",
      "source": [
        "# Estratégia 02\n",
        "\n",
        "a = 10\n",
        "b = 20 \n",
        "\n",
        "maior = a\n",
        "if (b > maior):\n",
        "  maior = b\n",
        "\n",
        "print(f'O maior número é: {maior}')"
      ],
      "metadata": {
        "id": "SpQfEkZY5cdC"
      },
      "execution_count": null,
      "outputs": []
    },
    {
      "cell_type": "code",
      "source": [
        "# Exercicio 01-Me\n",
        "# Implementar uma solução em Python que verifique se um Número é par ou ímpar\n",
        "\n",
        "numero = 10 # input('Entre com um número: ')\n",
        "\n",
        "if (numero % 2 == 0):\n",
        "  print('Número é par')\n",
        "else:\n",
        "  print('Número é ímpar')"
      ],
      "metadata": {
        "id": "OB5rWgv753A6"
      },
      "execution_count": null,
      "outputs": []
    },
    {
      "cell_type": "code",
      "source": [
        "# Exercício 01\n",
        "\n",
        "numero = 10 \n",
        "\n",
        "if (numero % 2 == 0):\n",
        "  situacao = 'Número é par'\n",
        "else:\n",
        "  situacao = 'Número é ímpar'\n",
        "\n",
        "print(situacao)"
      ],
      "metadata": {
        "id": "dCzA3xQe77Py"
      },
      "execution_count": null,
      "outputs": []
    },
    {
      "cell_type": "code",
      "source": [
        "# Exercicio 02-Me\n",
        "# Implementar uma solução em Python que resolva a seguinte questão:\n",
        "\n",
        "# - Se a nota for maior ou igual a 7, o estudante foi aprovado;\n",
        "# - Se a nota for menor que 7 e maior ou igual a 5, o estudante está em recuperação;\n",
        "# - Se a nota for menor que 5, o estudante está reprovado.\n",
        "\n",
        "nota = 6\n",
        "\n",
        "if (nota >= 7):\n",
        "  print('Estudante foi aprovado')\n",
        "\n",
        "elif (nota >= 5):\n",
        "  print('Estudante está em recuperação')\n",
        "\n",
        "else: \n",
        "  print('Estudante está reprovado')"
      ],
      "metadata": {
        "id": "7DccvvUk9Mk6"
      },
      "execution_count": null,
      "outputs": []
    },
    {
      "cell_type": "code",
      "source": [
        "# Exercício 02\n",
        "\n",
        "media = 8.5\n",
        "\n",
        "if (media >= 7.0):\n",
        "  situacao = \"aprovado\"\n",
        "elif(media>=5.0):\n",
        "  situacao = \"em recuperação\"\n",
        "else: \n",
        "  situacao = \"reprovado\"\n",
        "\n",
        "print(f\"O estudante está: {situacao}\")"
      ],
      "metadata": {
        "id": "xP9OCtzwKiKO"
      },
      "execution_count": null,
      "outputs": []
    },
    {
      "cell_type": "code",
      "source": [
        "# Exercício 03-Me\n",
        "\n",
        "# Implementar uma solução em Python que resolva a seguinte questão:\n",
        "\n",
        "# - Calcular o valor de uma compra, sendo que o preço unitário é R$ 10,00\n",
        "# - Se for feita uma compra de até 10 unidades, não há descontos.\n",
        "# - Para compras entre 11 e 20 unidades é dado um desconto de 10%.\n",
        "# - Acima de 20 unidades, é dado um desconto de 20%\n",
        "\n",
        "preco_unitario = 10.00\n",
        "compra = 50\n",
        "\n",
        "valor = preco_unitario*compra\n",
        "\n",
        "if compra <= 10:\n",
        "  print(f'Valor da compra: R$ {valor}')\n",
        "\n",
        "elif compra >= 11 and compra <= 20:\n",
        "  valor *= 0.9\n",
        "  print(f'Valor da compra: R$ {valor}')\n",
        "\n",
        "else: \n",
        "  valor *= 0.8\n",
        "  print(f'Valor da compra: R$ {valor}')\n"
      ],
      "metadata": {
        "id": "fhI8npaO-0dP"
      },
      "execution_count": null,
      "outputs": []
    },
    {
      "cell_type": "code",
      "source": [
        "# Exercício 03\n",
        "\n",
        "preco_unitario = 10\n",
        "DESCONTO10 = 0.1\n",
        "DESCONTO20 = 0.2\n",
        "quantidade = eval(input(\"Digite a quantidade que vai comprar: \"))\n",
        "if(quantidade <= 10): #menor ou igual a 10\n",
        "  valor_final = preco_unitario*quantidade\n",
        "elif(quantidade <=20): #maior que 10 e menor ou igual a 20\n",
        "  valor_final = preco_unitario*quantidade*(1-DESCONTO10)\n",
        "else: #maior que 20\n",
        "  valor_final = preco_unitario*quantidade*(1-DESCONTO20)\n",
        "\n",
        "print(f'O valor final da compra é: {valor_final}')"
      ],
      "metadata": {
        "id": "lKH-QvOdGV8o"
      },
      "execution_count": null,
      "outputs": []
    },
    {
      "cell_type": "code",
      "source": [
        "# Exercício 04-Me\n",
        "\n",
        "# Implementar uma solução em Python que some todos os números pares de uma lista.\n",
        "\n",
        "# Por exemplo, se a lista for [10, 2, 5, 7, 6, 3], o resultado deve ser igual a 18.\n",
        "\n",
        "lista = [10, 2, 5, 7, 6, 3]\n",
        "soma = 0\n",
        "\n",
        "for i in lista:\n",
        "  if (i % 2 == 0):\n",
        "     soma = soma + i\n",
        "\n",
        "print(soma)\n"
      ],
      "metadata": {
        "id": "r3K3cj9fKFvM",
        "colab": {
          "base_uri": "https://localhost:8080/"
        },
        "outputId": "64c87d9f-db1c-43d6-f0e0-96036b9dfa27"
      },
      "execution_count": null,
      "outputs": [
        {
          "output_type": "stream",
          "name": "stdout",
          "text": [
            "18\n"
          ]
        }
      ]
    },
    {
      "cell_type": "code",
      "source": [
        "# Exercíio 04 - Estratégia 01\n",
        "\n",
        "lista = [10, 2, 5, 7, 6, 3]\n",
        "n=len(lista)\n",
        "soma=0\n",
        "for i in range(n):\n",
        "  if(lista[i]%2==0):\n",
        "    soma=soma+lista[i]\n",
        "print(f'O somatório dos elementos pares da lista é: {soma}')"
      ],
      "metadata": {
        "id": "3iqzrKB9e_RA",
        "colab": {
          "base_uri": "https://localhost:8080/"
        },
        "outputId": "e2e29d83-02f8-460c-fb3e-93e8df109ff7"
      },
      "execution_count": null,
      "outputs": [
        {
          "output_type": "stream",
          "name": "stdout",
          "text": [
            "O somatório dos elementos pares da lista é: 18\n"
          ]
        }
      ]
    },
    {
      "cell_type": "code",
      "source": [
        "# Exercíio 04 - Estratégia 02\n",
        "\n",
        "lista = [10, 2, 5, 7, 6, 3]\n",
        "\n",
        "soma = 0\n",
        "for num in lista:\n",
        "  if(num % 2 == 0):\n",
        "     soma = soma + num\n",
        "print(f'O somatório dos elementos pares da lista é: {soma}')"
      ],
      "metadata": {
        "colab": {
          "base_uri": "https://localhost:8080/"
        },
        "id": "NSCD6srCsVpy",
        "outputId": "30c78a40-b380-4fc6-e267-5ceefb7012d2"
      },
      "execution_count": null,
      "outputs": [
        {
          "output_type": "stream",
          "name": "stdout",
          "text": [
            "O somatório dos elementos pares da lista é: 18\n"
          ]
        }
      ]
    },
    {
      "cell_type": "code",
      "source": [
        "# if <condição 1>:\n",
        "#     Bloco de código que será executado caso condição seja True\n",
        "#  elif <condição 2>:\n",
        "#     Bloco de código que será executado caso condição 1 seja False e condição 2 seja True\n",
        "#  else:\n",
        "#     Bloco de código que será executado caso condição 1 seja False e condição 2 seja False\n",
        "#  Instrução fora do if"
      ],
      "metadata": {
        "id": "6z7pFCg5wTk7"
      },
      "execution_count": null,
      "outputs": []
    },
    {
      "cell_type": "code",
      "source": [
        "# for <variável> in <sequência>:\n",
        "#      Bloco que será repetido para todos os itens da sequência\n",
        "#  Instrução fora do for"
      ],
      "metadata": {
        "id": "CkJcwubOwhoP"
      },
      "execution_count": null,
      "outputs": []
    },
    {
      "cell_type": "code",
      "source": [
        "# Somar o nome do usuário\n",
        "\n",
        "nome = input('Escreva seu nome aqui: ')\n",
        "\n",
        "for i in nome:\n",
        "  print(i)"
      ],
      "metadata": {
        "id": "w7HoKHbkyYT1",
        "colab": {
          "base_uri": "https://localhost:8080/"
        },
        "outputId": "80ac8b66-04ab-4831-b51b-2e27fd6485cd"
      },
      "execution_count": null,
      "outputs": [
        {
          "output_type": "stream",
          "name": "stdout",
          "text": [
            "Escreva seu nome aqui: Gleison\n",
            "G\n",
            "l\n",
            "e\n",
            "i\n",
            "s\n",
            "o\n",
            "n\n"
          ]
        }
      ]
    },
    {
      "cell_type": "code",
      "source": [
        "nomes = ['Laura', 'Lis', 'Guilherme', 'Enzo', 'Arthur']\n",
        "for nome in nomes[0]:\n",
        "    print(nome)\n"
      ],
      "metadata": {
        "colab": {
          "base_uri": "https://localhost:8080/"
        },
        "id": "m1sfEyydQJtb",
        "outputId": "280ca4d4-2eb3-472e-e699-1ec21156a7c1"
      },
      "execution_count": null,
      "outputs": [
        {
          "output_type": "stream",
          "name": "stdout",
          "text": [
            "L\n",
            "a\n",
            "u\n",
            "r\n",
            "a\n"
          ]
        }
      ]
    },
    {
      "cell_type": "code",
      "source": [
        "while True:\n",
        "    print('Você está no primeiro laço.')\n",
        "    opcao1 = input('Deseja sair dele? Digite SIM para isso. \\n')\n",
        "    if opcao1 == 'SIM':\n",
        "        break  # este break é do primeiro laço\n",
        "    else:\n",
        "        while True:\n",
        "            print('Você está no segundo laço.')\n",
        "            opcao2 = input('Deseja sair dele? Digite SIM para isso. \\n')\n",
        "            if opcao2 == 'SIM':\n",
        "                break  # este break é do segundo laço\n",
        "        print('Você saiu do segundo laço.')\n",
        "print('Você saiu do primeiro laço')"
      ],
      "metadata": {
        "colab": {
          "base_uri": "https://localhost:8080/"
        },
        "id": "Zl5z_qfxRreC",
        "outputId": "32539dc2-cc35-457f-b089-56d16c5cd6e8"
      },
      "execution_count": null,
      "outputs": [
        {
          "output_type": "stream",
          "name": "stdout",
          "text": [
            "Você está no primeiro laço.\n",
            "Deseja sair dele? Digite SIM para isso. \n",
            "sim\n",
            "Você está no segundo laço.\n",
            "Deseja sair dele? Digite SIM para isso. \n",
            "hm\n",
            "Você está no segundo laço.\n",
            "Deseja sair dele? Digite SIM para isso. \n",
            "SIM\n",
            "Você saiu do segundo laço.\n",
            "Você está no primeiro laço.\n",
            "Deseja sair dele? Digite SIM para isso. \n",
            "sim\n",
            "Você está no segundo laço.\n",
            "Deseja sair dele? Digite SIM para isso. \n",
            "SIM\n",
            "Você saiu do segundo laço.\n",
            "Você está no primeiro laço.\n",
            "Deseja sair dele? Digite SIM para isso. \n",
            "SIM\n",
            "Você saiu do primeiro laço\n"
          ]
        }
      ]
    },
    {
      "cell_type": "code",
      "source": [
        "for i in range(1, 11):\n",
        "  if i == 5:\n",
        "    break\n",
        "  else:\n",
        "    print(i)"
      ],
      "metadata": {
        "colab": {
          "base_uri": "https://localhost:8080/"
        },
        "id": "5iBY9rtfVQgC",
        "outputId": "4452d7d1-9903-47da-ce91-dcaaaf038ae2"
      },
      "execution_count": null,
      "outputs": [
        {
          "output_type": "stream",
          "name": "stdout",
          "text": [
            "1\n",
            "2\n",
            "3\n",
            "4\n"
          ]
        }
      ]
    },
    {
      "cell_type": "code",
      "source": [
        "for i in range(1, 11):\n",
        "  if not i % 2 == 0:\n",
        "    print(i)"
      ],
      "metadata": {
        "colab": {
          "base_uri": "https://localhost:8080/"
        },
        "id": "v38UvsG_aDlS",
        "outputId": "11198a53-3e31-4d3d-a89f-0afc9edd9a8a"
      },
      "execution_count": null,
      "outputs": [
        {
          "output_type": "stream",
          "name": "stdout",
          "text": [
            "1\n",
            "3\n",
            "5\n",
            "7\n",
            "9\n"
          ]
        }
      ]
    },
    {
      "cell_type": "code",
      "source": [
        "s = 0\n",
        "for i in range(5):\n",
        "    s += 3*i # s = s + 3*i\n",
        "    print(s)\n",
        "print(s)"
      ],
      "metadata": {
        "colab": {
          "base_uri": "https://localhost:8080/"
        },
        "id": "ra8D6V2_bDrv",
        "outputId": "18d40091-005c-4dfa-ba85-e2b16cc62b70"
      },
      "execution_count": null,
      "outputs": [
        {
          "output_type": "stream",
          "name": "stdout",
          "text": [
            "0\n",
            "3\n",
            "9\n",
            "18\n",
            "30\n",
            "30\n"
          ]
        }
      ]
    },
    {
      "cell_type": "code",
      "source": [
        "s = 0\n",
        "a = 1\n",
        "while s < 5:\n",
        "  s = 3*a\n",
        "  a += 1\n",
        "  print(s)\n",
        "  print(a, 'hm')  "
      ],
      "metadata": {
        "colab": {
          "base_uri": "https://localhost:8080/"
        },
        "id": "mznrmPhLb8_h",
        "outputId": "13dbae0f-c1ef-4443-8075-4bc3159bed14"
      },
      "execution_count": null,
      "outputs": [
        {
          "output_type": "stream",
          "name": "stdout",
          "text": [
            "3\n",
            "2 hm\n",
            "6\n",
            "3 hm\n"
          ]
        }
      ]
    },
    {
      "cell_type": "markdown",
      "source": [
        "## MÓDULO 2\n",
        "\n",
        "---"
      ],
      "metadata": {
        "id": "aeL71qr1f_fq"
      }
    },
    {
      "cell_type": "code",
      "source": [
        "# Exemplo-Me\n",
        "\n",
        "# Implementar uma solução em Python que retorne o menor elemento de uma lista.\n",
        "\n",
        "def minimo(lista):\n",
        "\n",
        "  for i in lista:\n",
        "    if i == min(lista):\n",
        "      print(f'O menor elemento da lista é: {i}')\n",
        "\n",
        "# lista_teste = [1, 11, 8, 4, 2]\n",
        "# menor = minimo(lista_teste)"
      ],
      "metadata": {
        "id": "96Rx4LtmgB2Q"
      },
      "execution_count": null,
      "outputs": []
    },
    {
      "cell_type": "code",
      "source": [
        "# Solução do Exemplo\n",
        "\n",
        "def encontrar_minimo(lista):\n",
        "    minimo = lista[0]\n",
        "    print(minimo)\n",
        "    for elem in lista:\n",
        "      if(elem < minimo):\n",
        "        print(elem, 'elem')\n",
        "        print(minimo, 'min')\n",
        "        minimo = elem\n",
        "        print(minimo, 'minimo')\n",
        "    return minimo"
      ],
      "metadata": {
        "id": "8KkFBqMQggcK"
      },
      "execution_count": null,
      "outputs": []
    },
    {
      "cell_type": "code",
      "source": [
        "lista_teste = [11, 10, 3, 1, 4, 5]\n",
        "menor = encontrar_minimo(lista_teste)\n",
        "print(\"O menor elemento da lista é: [{}]\". format(menor))"
      ],
      "metadata": {
        "colab": {
          "base_uri": "https://localhost:8080/"
        },
        "id": "Y-P2W7j9rUX-",
        "outputId": "22fe8a8e-478a-4cba-fb87-f6936e5b9b5d"
      },
      "execution_count": null,
      "outputs": [
        {
          "output_type": "stream",
          "name": "stdout",
          "text": [
            "11\n",
            "10 elem\n",
            "11 min\n",
            "10 minimo\n",
            "3 elem\n",
            "10 min\n",
            "3 minimo\n",
            "1 elem\n",
            "3 min\n",
            "1 minimo\n",
            "O menor elemento da lista é: [1]\n"
          ]
        }
      ]
    },
    {
      "cell_type": "code",
      "source": [
        "# Exercício 01-Me\n",
        "\n",
        "# Implementar uma solução em Python que retorne a soma de todos os elementos pares de \n",
        "# uma lista.\n",
        "\n",
        "def find_par(lista):\n",
        "\n",
        "  soma = 0\n",
        "  for i in lista:\n",
        "\n",
        "    if i % 2 == 0:\n",
        "      soma = soma + i\n",
        "\n",
        "  return soma\n",
        "\n",
        "lista = [10, 2, 5, 7, 6, 3]\n",
        "find_par(lista)"
      ],
      "metadata": {
        "colab": {
          "base_uri": "https://localhost:8080/"
        },
        "id": "JEpiHIdarzIQ",
        "outputId": "13ffbfb1-90fb-40c6-f25c-af778bbc69ff"
      },
      "execution_count": null,
      "outputs": [
        {
          "output_type": "execute_result",
          "data": {
            "text/plain": [
              "18"
            ]
          },
          "metadata": {},
          "execution_count": 116
        }
      ]
    },
    {
      "cell_type": "code",
      "source": [
        "# Solução do Exercício 01\n",
        "\n",
        "def ehPar(n):\n",
        "  r = (n%2==0)\n",
        "  return r "
      ],
      "metadata": {
        "id": "lgUaXehyyAlc"
      },
      "execution_count": null,
      "outputs": []
    },
    {
      "cell_type": "code",
      "source": [
        "\n",
        "def somar_par(lst):\n",
        "  soma = 0\n",
        "  for num in lst:\n",
        "    if(ehPar(num)):\n",
        "      soma = soma+num\n",
        "\n",
        "  return soma"
      ],
      "metadata": {
        "id": "UvMHOSCz-zUM"
      },
      "execution_count": null,
      "outputs": []
    },
    {
      "cell_type": "code",
      "source": [
        "lista = [10, 2, 5, 7, 6, 3]\n",
        "soma = somar_par(lista)\n",
        "print(f'O somatório dos elementos pares da lista é: {soma}')"
      ],
      "metadata": {
        "colab": {
          "base_uri": "https://localhost:8080/"
        },
        "id": "BkhA4-wz-zf0",
        "outputId": "c679351f-dc58-40c1-ba6b-880e746fe02b"
      },
      "execution_count": null,
      "outputs": [
        {
          "output_type": "stream",
          "name": "stdout",
          "text": [
            "O somatório dos elementos pares da lista é: 18\n"
          ]
        }
      ]
    },
    {
      "cell_type": "code",
      "source": [
        "# Exercício 02\n",
        "\n",
        "# Implementar uma solução em Python que calcule o fatorial de um número.\n",
        "\n",
        "def fatorial(n):\n",
        " \n",
        "  if n == 0:\n",
        "    return 1\n",
        "  \n",
        "  else: \n",
        "    return n * fatorial(n-1)\n",
        "\n",
        "ex = fatorial(3)\n",
        "print(ex)"
      ],
      "metadata": {
        "colab": {
          "base_uri": "https://localhost:8080/"
        },
        "id": "0fHIm1tP_CiE",
        "outputId": "e8505af5-5287-4c62-af8c-0a987b3ce58a"
      },
      "execution_count": null,
      "outputs": [
        {
          "output_type": "stream",
          "name": "stdout",
          "text": [
            "6\n"
          ]
        }
      ]
    },
    {
      "cell_type": "code",
      "source": [
        "def fatorial(n):\n",
        "    if n == 0:\n",
        "        return 1\n",
        "    else:\n",
        "        return n * fatorial(n-1)\n",
        "\n",
        "ex = fatorial(1)\n",
        "print(ex)"
      ],
      "metadata": {
        "colab": {
          "base_uri": "https://localhost:8080/"
        },
        "id": "WZsXBCM2CIp0",
        "outputId": "721c7c2d-8eda-4a5d-f817-c14c670a751a"
      },
      "execution_count": null,
      "outputs": [
        {
          "output_type": "stream",
          "name": "stdout",
          "text": [
            "1\n"
          ]
        }
      ]
    },
    {
      "cell_type": "code",
      "source": [
        "# Estratégia 01  \n",
        "\n",
        "def fatorial_iterativo(n):\n",
        "  f = 1\n",
        "  for i in range(1, n+1):\n",
        "    f=f*i\n",
        "  return f"
      ],
      "metadata": {
        "id": "EcQ_kOGhCKNF"
      },
      "execution_count": null,
      "outputs": []
    },
    {
      "cell_type": "code",
      "source": [
        "# Estratégia 02\n",
        "\n",
        "def fatorial_recursivo(n):\n",
        "  if((n==0) or (n==1)):\n",
        "    return 1\n",
        "  return n*fatorial_recursivo(n-1)"
      ],
      "metadata": {
        "id": "qE-sFZ4be0Kz"
      },
      "execution_count": null,
      "outputs": []
    },
    {
      "cell_type": "code",
      "source": [
        "numero = 5\n",
        "print(f'O fatorial de {numero}: é {fatorial_iterativo(numero)}')\n",
        "print(f'O fatorial de {numero}: é {fatorial_recursivo(numero)}')"
      ],
      "metadata": {
        "colab": {
          "base_uri": "https://localhost:8080/"
        },
        "id": "2P7rS7gwfImD",
        "outputId": "5768b6d5-47a3-4b8e-d7e4-9da74972c2f8"
      },
      "execution_count": null,
      "outputs": [
        {
          "output_type": "stream",
          "name": "stdout",
          "text": [
            "O fatorial de 5: é 120\n",
            "O fatorial de 5: é 120\n"
          ]
        }
      ]
    },
    {
      "cell_type": "code",
      "source": [
        "# Exercício 03\n",
        " \n",
        "# Implementar uma solução em Python que determine se um Número é ou náo Primo.\n",
        "\n",
        "def num_primo(n):\n",
        "\n",
        "    if n < 2:\n",
        "        return False\n",
        "    for i in range(2, int(n**0.5) + 1):\n",
        "        if n % i == 0:\n",
        "            return False\n",
        "    return True\n",
        "\n",
        "teste = num_primo(4)\n",
        "print(teste)"
      ],
      "metadata": {
        "colab": {
          "base_uri": "https://localhost:8080/"
        },
        "id": "wcQPRp9vferN",
        "outputId": "5565b089-1b28-4ee4-a71a-ece5a4040e4c"
      },
      "execution_count": null,
      "outputs": [
        {
          "output_type": "stream",
          "name": "stdout",
          "text": [
            "False\n"
          ]
        }
      ]
    },
    {
      "cell_type": "code",
      "source": [
        "# Solução do Exercício 03\n",
        "\n",
        "def eh_primo(n):\n",
        "  if(n<2):\n",
        "    return False\n",
        "  i=n//2\n",
        "  while(i>1):\n",
        "    if(n%1==0):\n",
        "      return False\n",
        "    i=i-1\n",
        "  return True"
      ],
      "metadata": {
        "id": "djfnUJc8j2Cq"
      },
      "execution_count": null,
      "outputs": []
    },
    {
      "cell_type": "code",
      "source": [
        "def imprimir_resultado(numero, resultado):\n",
        "  mensagem = f'O número {numero} náo é Primo'\n",
        "  if(resultado):\n",
        "    mensagem = f'O número {numero} é Primo'\n",
        "  return mensagem "
      ],
      "metadata": {
        "id": "pS0deC58kCDz"
      },
      "execution_count": null,
      "outputs": []
    },
    {
      "cell_type": "code",
      "source": [
        "numero = 7\n",
        "resultado = eh_primo(numero)\n",
        "msg = imprimir_resultado(numero, resultado)\n",
        "print(msg)"
      ],
      "metadata": {
        "id": "qk2F8LDN8HAM",
        "colab": {
          "base_uri": "https://localhost:8080/"
        },
        "outputId": "83b52565-79a8-4a7f-d0df-5784f111ae11"
      },
      "execution_count": null,
      "outputs": [
        {
          "output_type": "stream",
          "name": "stdout",
          "text": [
            "O número 7 náo é Primo\n"
          ]
        }
      ]
    },
    {
      "cell_type": "code",
      "source": [
        "escolha = input(\"Escolha uma opção de função: 1 ou 2\\n\")\n",
        "if escolha == \"1\":\n",
        "    def func1(x):\n",
        "        return x + 1\n",
        "    s = func1(10)\n",
        "\n",
        "else:\n",
        "    def func2(x):\n",
        "        return x + 2\n",
        "    s = func2(10)\n",
        "\n",
        "print(s)"
      ],
      "metadata": {
        "colab": {
          "base_uri": "https://localhost:8080/"
        },
        "id": "I1TU1e0aV-Vm",
        "outputId": "1dca8e18-e90e-4b53-9691-03a490590477"
      },
      "execution_count": null,
      "outputs": [
        {
          "output_type": "stream",
          "name": "stdout",
          "text": [
            "Escolha uma opção de função: 1 ou 2\n",
            "1\n",
            "11\n"
          ]
        }
      ]
    },
    {
      "cell_type": "code",
      "source": [
        "def soma_naturais(n):\n",
        "    if n == 1:\n",
        "        return 1\n",
        "    else:\n",
        "        return n + soma_naturais(n - 1)\n",
        "\n",
        "print(soma_naturais(5)) # Output: 15 (1 + 2 + 3 + 4 + 5 = 15)"
      ],
      "metadata": {
        "id": "06oZeQidiTwq",
        "colab": {
          "base_uri": "https://localhost:8080/"
        },
        "outputId": "c92a83df-546d-45ac-b4ad-2f38d39da87c"
      },
      "execution_count": null,
      "outputs": [
        {
          "output_type": "stream",
          "name": "stdout",
          "text": [
            "15\n"
          ]
        }
      ]
    },
    {
      "cell_type": "code",
      "source": [
        "def fibonacci(n):\n",
        "    if n <= 0:\n",
        "        return 0\n",
        "    elif n == 1:\n",
        "        return 1\n",
        "    else:\n",
        "        hm = fibonacci(n-1) + fibonacci(n-2)\n",
        "        print(hm)\n",
        "        return hm # fibonacci(n-1) + fibonacci(n-2)\n",
        "\n",
        "print(fibonacci(6)) # Output: 8 (1, 1, 2, 3, 5, 8...)"
      ],
      "metadata": {
        "colab": {
          "base_uri": "https://localhost:8080/"
        },
        "id": "QQYSyscfz7kE",
        "outputId": "2568532e-8a13-4c69-9f94-8310adaf20c8"
      },
      "execution_count": null,
      "outputs": [
        {
          "output_type": "stream",
          "name": "stdout",
          "text": [
            "1\n",
            "2\n",
            "1\n",
            "3\n",
            "1\n",
            "2\n",
            "5\n",
            "1\n",
            "2\n",
            "1\n",
            "3\n",
            "8\n",
            "8\n"
          ]
        }
      ]
    },
    {
      "cell_type": "code",
      "source": [
        "def func1(x):\n",
        "     x = 10\n",
        "     print(x)\n",
        "\n",
        "\n",
        "x = 0\n",
        "print(x)\n",
        "func1(x)\n",
        "print(x)"
      ],
      "metadata": {
        "colab": {
          "base_uri": "https://localhost:8080/"
        },
        "id": "cSRTsBRHQ1dj",
        "outputId": "3811a580-f3e9-4de7-ab87-72053f55e469"
      },
      "execution_count": null,
      "outputs": [
        {
          "output_type": "stream",
          "name": "stdout",
          "text": [
            "0\n",
            "10\n",
            "0\n"
          ]
        }
      ]
    },
    {
      "cell_type": "code",
      "source": [
        "def rec(n):\n",
        "     if n < 2:\n",
        "        return rec(n - 1)\n",
        "\n",
        "\n",
        "print(rec(1))"
      ],
      "metadata": {
        "colab": {
          "base_uri": "https://localhost:8080/",
          "height": 415
        },
        "id": "ZIXCwJ_vWIj2",
        "outputId": "b8279985-4e89-4b6c-cb5a-c6ab2a611c1b"
      },
      "execution_count": null,
      "outputs": [
        {
          "output_type": "error",
          "ename": "RecursionError",
          "evalue": "ignored",
          "traceback": [
            "\u001b[0;31m---------------------------------------------------------------------------\u001b[0m",
            "\u001b[0;31mRecursionError\u001b[0m                            Traceback (most recent call last)",
            "\u001b[0;32m<ipython-input-7-8e7cf50e4d8a>\u001b[0m in \u001b[0;36m<module>\u001b[0;34m\u001b[0m\n\u001b[1;32m      4\u001b[0m \u001b[0;34m\u001b[0m\u001b[0m\n\u001b[1;32m      5\u001b[0m \u001b[0;34m\u001b[0m\u001b[0m\n\u001b[0;32m----> 6\u001b[0;31m \u001b[0mprint\u001b[0m\u001b[0;34m(\u001b[0m\u001b[0mrec\u001b[0m\u001b[0;34m(\u001b[0m\u001b[0;36m1\u001b[0m\u001b[0;34m)\u001b[0m\u001b[0;34m)\u001b[0m\u001b[0;34m\u001b[0m\u001b[0;34m\u001b[0m\u001b[0m\n\u001b[0m",
            "\u001b[0;32m<ipython-input-7-8e7cf50e4d8a>\u001b[0m in \u001b[0;36mrec\u001b[0;34m(n)\u001b[0m\n\u001b[1;32m      1\u001b[0m \u001b[0;32mdef\u001b[0m \u001b[0mrec\u001b[0m\u001b[0;34m(\u001b[0m\u001b[0mn\u001b[0m\u001b[0;34m)\u001b[0m\u001b[0;34m:\u001b[0m\u001b[0;34m\u001b[0m\u001b[0;34m\u001b[0m\u001b[0m\n\u001b[1;32m      2\u001b[0m      \u001b[0;32mif\u001b[0m \u001b[0mn\u001b[0m \u001b[0;34m<\u001b[0m \u001b[0;36m2\u001b[0m\u001b[0;34m:\u001b[0m\u001b[0;34m\u001b[0m\u001b[0;34m\u001b[0m\u001b[0m\n\u001b[0;32m----> 3\u001b[0;31m         \u001b[0;32mreturn\u001b[0m \u001b[0mrec\u001b[0m\u001b[0;34m(\u001b[0m\u001b[0mn\u001b[0m \u001b[0;34m-\u001b[0m \u001b[0;36m1\u001b[0m\u001b[0;34m)\u001b[0m\u001b[0;34m\u001b[0m\u001b[0;34m\u001b[0m\u001b[0m\n\u001b[0m\u001b[1;32m      4\u001b[0m \u001b[0;34m\u001b[0m\u001b[0m\n\u001b[1;32m      5\u001b[0m \u001b[0;34m\u001b[0m\u001b[0m\n",
            "... last 1 frames repeated, from the frame below ...\n",
            "\u001b[0;32m<ipython-input-7-8e7cf50e4d8a>\u001b[0m in \u001b[0;36mrec\u001b[0;34m(n)\u001b[0m\n\u001b[1;32m      1\u001b[0m \u001b[0;32mdef\u001b[0m \u001b[0mrec\u001b[0m\u001b[0;34m(\u001b[0m\u001b[0mn\u001b[0m\u001b[0;34m)\u001b[0m\u001b[0;34m:\u001b[0m\u001b[0;34m\u001b[0m\u001b[0;34m\u001b[0m\u001b[0m\n\u001b[1;32m      2\u001b[0m      \u001b[0;32mif\u001b[0m \u001b[0mn\u001b[0m \u001b[0;34m<\u001b[0m \u001b[0;36m2\u001b[0m\u001b[0;34m:\u001b[0m\u001b[0;34m\u001b[0m\u001b[0;34m\u001b[0m\u001b[0m\n\u001b[0;32m----> 3\u001b[0;31m         \u001b[0;32mreturn\u001b[0m \u001b[0mrec\u001b[0m\u001b[0;34m(\u001b[0m\u001b[0mn\u001b[0m \u001b[0;34m-\u001b[0m \u001b[0;36m1\u001b[0m\u001b[0;34m)\u001b[0m\u001b[0;34m\u001b[0m\u001b[0;34m\u001b[0m\u001b[0m\n\u001b[0m\u001b[1;32m      4\u001b[0m \u001b[0;34m\u001b[0m\u001b[0m\n\u001b[1;32m      5\u001b[0m \u001b[0;34m\u001b[0m\u001b[0m\n",
            "\u001b[0;31mRecursionError\u001b[0m: maximum recursion depth exceeded in comparison"
          ]
        }
      ]
    },
    {
      "cell_type": "markdown",
      "source": [
        "## MÓDULO 03\n",
        "\n",
        "\n",
        "\n",
        "---\n",
        "\n",
        "\n"
      ],
      "metadata": {
        "id": "ye3CQyX9Ygdk"
      }
    },
    {
      "cell_type": "code",
      "source": [
        "# Exemplo-Me\n",
        "\n",
        "# Implementar uma solução em Python que calcule as raízes de uma equação do segundo grau.\n",
        "\n",
        "# Exemplo: dada a equação x**2 + 5x + 6 = 0\n",
        "# as raízes são {-3, -2}\n",
        "\n",
        "# delta = b**2 - 4.a.c\n",
        "# bhaskara = x = -b +/- raiz/delta / 2.a\n",
        "\n",
        "def calcula_eq(a, b, c):\n",
        "  delta = (b**2) - 4*a*c\n",
        "  x1 = (-b + delta**(1/2)) / (2*a)\n",
        "  x2 = (-b - delta**(1/2)) / (2*a)\n",
        "  return x1, x2\n",
        "\n",
        "print(calcula_eq(1, 5, 6))"
      ],
      "metadata": {
        "colab": {
          "base_uri": "https://localhost:8080/"
        },
        "id": "xrTDvsRwYjrO",
        "outputId": "5b6b2c55-a578-4510-90d2-574983eee31f"
      },
      "execution_count": null,
      "outputs": [
        {
          "output_type": "stream",
          "name": "stdout",
          "text": [
            "(-2.0, -3.0)\n"
          ]
        }
      ]
    },
    {
      "cell_type": "code",
      "source": [
        "def calcular_raizes(a, b, c):\n",
        "    delta = b**2 - 4*a*c\n",
        "\n",
        "    if delta < 0:\n",
        "        print(\"A equação não possui raízes reais.\")\n",
        "        return None\n",
        "    elif delta == 0:\n",
        "        x = -b / (2*a)\n",
        "        print(f\"A equação possui uma única raiz real: x = {x}\")\n",
        "        return x\n",
        "    else:\n",
        "        x1 = (-b + delta**(1/2)) / (2*a)\n",
        "        x2 = (-b - delta**(1/2)) / (2*a)\n",
        "        print(f\"A equação possui duas raízes reais: x1 = {x1} e x2 = {x2}\")\n",
        "        return x1, x2\n",
        "\n",
        "print(calcular_raizes(1, 5, 6))"
      ],
      "metadata": {
        "colab": {
          "base_uri": "https://localhost:8080/"
        },
        "id": "dNo-ojA8dfTY",
        "outputId": "d0cbb710-4cc9-442e-b426-e1d84a5512da"
      },
      "execution_count": null,
      "outputs": [
        {
          "output_type": "stream",
          "name": "stdout",
          "text": [
            "A equação possui duas raízes reais: x1 = -2.0 e x2 = -3.0\n",
            "(-2.0, -3.0)\n"
          ]
        }
      ]
    },
    {
      "cell_type": "code",
      "source": [
        "# Solução do Exemplo\n",
        "\n",
        "def entrada_dados():\n",
        "  coeficiente = quantidade = eval(input(\"Digite o valor do coeficiente: \"))\n",
        "  return coeficiente"
      ],
      "metadata": {
        "id": "mS_JBlUTfHgJ"
      },
      "execution_count": null,
      "outputs": []
    },
    {
      "cell_type": "code",
      "source": [
        "def calc_delta(a, b, c):\n",
        "  delta = b*b -4*a*c\n",
        "  return delta"
      ],
      "metadata": {
        "id": "7WTABX5H575Z"
      },
      "execution_count": null,
      "outputs": []
    },
    {
      "cell_type": "code",
      "source": [
        "# import numpy as np\n",
        "def calcular_raizes(a, b, c, delta):\n",
        "  if(delta<0):\n",
        "    resultado='a equação não possui raízes nos números reais'\n",
        "  elif(delta==0):\n",
        "    x=-b/(2*a)\n",
        "    resultado = f'a equação possui apenas a raiz: {x}'\n",
        "  else: \n",
        "    x1 = (-b-np.sqrt(delta))/(2*a)\n",
        "    x2 = (-b+np.sqrt(delta))/(2*a)\n",
        "    resultado=f'a equação possui as raízes: {x1}, {x2}'\n",
        "  return resultado"
      ],
      "metadata": {
        "id": "qMvNRvSQ6Rgn"
      },
      "execution_count": null,
      "outputs": []
    },
    {
      "cell_type": "code",
      "source": [
        "#f(x)=ax^2+bx+c\n",
        "a=entrada_dados()\n",
        "b=entrada_dados()\n",
        "c=entrada_dados()\n",
        "\n",
        "delta=calc_delta(a, b, c)\n",
        "\n",
        "resultado=calcular_raizes(a, b, c, delta)\n",
        "print(resultado)"
      ],
      "metadata": {
        "colab": {
          "base_uri": "https://localhost:8080/"
        },
        "id": "LyEQzrYk7Y-Q",
        "outputId": "184cada8-7f3d-44e7-f3e0-b73f579f600b"
      },
      "execution_count": null,
      "outputs": [
        {
          "output_type": "stream",
          "name": "stdout",
          "text": [
            "Digite o valor do coeficiente: 1\n",
            "Digite o valor do coeficiente: 5\n",
            "Digite o valor do coeficiente: 6\n",
            "a equação possui as raízes: -3.0, -2.0\n"
          ]
        }
      ]
    },
    {
      "cell_type": "code",
      "source": [
        "# Exercício 01-Me\n",
        "\n",
        "# Implementar uma solução em Python para visualizar dados de vendas de produtos\n",
        "# em um gráfico de barras.\n",
        "\n",
        "# Por exemplo, utilize os seguintes dados:\n",
        "x = [\"A\", \"B\", \"C\", \"D\"]\n",
        "y = [3, 8, 1, 10]\n",
        "\n",
        "# import matplotlib.pyplot as plt\n",
        "# import pandas as pd\n",
        "# import seaborn as sns\n",
        "\n",
        "df = pd.DataFrame({\"x\": x, \"y\": y})\n",
        "\n",
        "# print(df)\n",
        "graf = sns.barplot(x='x', y='y', data=df)\n",
        "graf.set_title(\"Atribuição de valores em um gráfico de barras\")\n",
        "print(graf)"
      ],
      "metadata": {
        "colab": {
          "base_uri": "https://localhost:8080/",
          "height": 312
        },
        "id": "8Q5WBxud8-B3",
        "outputId": "00a2e3f4-c48d-459a-9493-3f9bc1676d86"
      },
      "execution_count": null,
      "outputs": [
        {
          "output_type": "stream",
          "name": "stdout",
          "text": [
            "Axes(0.125,0.125;0.775x0.755)\n"
          ]
        },
        {
          "output_type": "display_data",
          "data": {
            "text/plain": [
              "<Figure size 432x288 with 1 Axes>"
            ],
            "image/png": "[encoded data removed]"
          },
          "metadata": {
            "needs_background": "light"
          }
        }
      ]
    },
    {
      "cell_type": "code",
      "source": [
        "# Solução do Exercício 01\n",
        "\n",
        "x = np.array([\"A\", \"B\", \"C\", \"D\"])\n",
        "y = np.array([3, 8, 1, 10])\n",
        "\n",
        "plt.bar(x, y)\n",
        "plt.show()"
      ],
      "metadata": {
        "colab": {
          "base_uri": "https://localhost:8080/",
          "height": 265
        },
        "id": "CNTG_vNmAo5q",
        "outputId": "f9ab3b37-365b-4322-ffa2-7766595d2c96"
      },
      "execution_count": null,
      "outputs": [
        {
          "output_type": "display_data",
          "data": {
            "text/plain": [
              "<Figure size 432x288 with 1 Axes>"
            ],
            "image/png": "[encoded data removed]"
          },
          "metadata": {
            "needs_background": "light"
          }
        }
      ]
    },
    {
      "cell_type": "code",
      "source": [
        "# Exercício 02-Me\n",
        "\n",
        "# Implementar uma solução em Python seguindo a distribuição Normal com \n",
        "# média 20 e desvio-padrão 2.\n",
        "# Além disso,e xiba os dados em um histograma.\n",
        "\n",
        "# import numpy as np\n",
        "# import matplotlib.pyplot as plt\n",
        "\n",
        "mu, sigma = 20, 2\n",
        "s = np.random.normal(mu, sigma, 1000)\n",
        "\n",
        "count, bins, ignored = plt.hist(s, 30, density=True)\n",
        "plt.plot(bins, 1/(sigma * np.sqrt(2 * np.pi)) *\n",
        "         np.exp( - (bins - mu)**2 / (2 * sigma**2) ),\n",
        "         linewidth=2, color='r')\n",
        "plt.show()\n",
        "#ChatGPT"
      ],
      "metadata": {
        "colab": {
          "base_uri": "https://localhost:8080/",
          "height": 265
        },
        "id": "6iQ2t2dfHgiD",
        "outputId": "b3bdbde9-d9ad-424d-8850-7047a992febd"
      },
      "execution_count": null,
      "outputs": [
        {
          "output_type": "display_data",
          "data": {
            "text/plain": [
              "<Figure size 432x288 with 1 Axes>"
            ],
            "image/png": "[encoded data removed]"
          },
          "metadata": {
            "needs_background": "light"
          }
        }
      ]
    },
    {
      "cell_type": "code",
      "source": [
        "# Solução do Exercício 02\n",
        "\n",
        "import matplotlib.pyplot as plt\n",
        "import numpy as np\n",
        "np.random.seed(1)\n",
        "dados = np.random.normal(loc=20, scale=2, size=1000)\n",
        "plt.hist(dados, color = \"Lightblue\", ec=\"red\")"
      ],
      "metadata": {
        "colab": {
          "base_uri": "https://localhost:8080/",
          "height": 356
        },
        "id": "54oegkMJMGit",
        "outputId": "19ba8024-7202-45b9-86fc-d419b73a173a"
      },
      "execution_count": null,
      "outputs": [
        {
          "output_type": "execute_result",
          "data": {
            "text/plain": [
              "(array([ 10.,  37., 103., 223., 286., 224.,  90.,  24.,   1.,   2.]),\n",
              " array([13.89247124, 15.29494466, 16.69741807, 18.09989149, 19.50236491,\n",
              "        20.90483832, 22.30731174, 23.70978516, 25.11225857, 26.51473199,\n",
              "        27.91720541]),\n",
              " <BarContainer object of 10 artists>)"
            ]
          },
          "metadata": {},
          "execution_count": 48
        },
        {
          "output_type": "display_data",
          "data": {
            "text/plain": [
              "<Figure size 432x288 with 1 Axes>"
            ],
            "image/png": "[encoded data removed]"
          },
          "metadata": {
            "needs_background": "light"
          }
        }
      ]
    },
    {
      "cell_type": "code",
      "source": [
        "## Abaixo, formas de enviar um e-mail usando Python"
      ],
      "metadata": {
        "id": "Gs7iuvhhzrfC"
      },
      "execution_count": null,
      "outputs": []
    },
    {
      "cell_type": "code",
      "source": [
        "import smtplib\n",
        "import email.message\n",
        "\n",
        "def enviar_email():\n",
        "    smtp_server = 'smtp.gmail.com'\n",
        "    smtp_port = 587\n",
        "    \n",
        "    corpo_email = \"\"\"\n",
        "    <p>Hackerman kk</p>\n",
        "    \"\"\"\n",
        "\n",
        "    msg = email.message.Message()\n",
        "    msg['From'] = \"gleison04lemos@gmail.com\"\n",
        "    msg[\"To\"] = \"gleison04lemos@gmail.com\"\n",
        "    msg[\"Subject\"] = \"Segura o hackerman kk\"\n",
        "    password = \"senha\"\n",
        "    msg.add_header('Content-Type', 'text/html')\n",
        "    msg.set_payload(corpo_email)\n",
        "\n",
        "    \n",
        "\n",
        "    s = smtplib.SMTP(smtp_server, smtp_port)\n",
        "    s.starttls()\n",
        "    # Login Credentials for sending the mail\n",
        "    s.login(msg['From'], password)\n",
        "    s.sendmail(msg['From'], [msg['To']], msg.as_string().encode('utf-8'))\n",
        "    print('Email enviado')\n",
        "\n",
        "# enviar_email()"
      ],
      "metadata": {
        "colab": {
          "base_uri": "https://localhost:8080/"
        },
        "id": "u2xxSVlRRvSV",
        "outputId": "c433186b-7468-4b65-8fed-d915e62697bf"
      },
      "execution_count": null,
      "outputs": [
        {
          "output_type": "stream",
          "name": "stdout",
          "text": [
            "Email enviado\n"
          ]
        }
      ]
    },
    {
      "cell_type": "code",
      "source": [
        "import smtplib\n",
        "from email.mime.text import MIMEText\n",
        "\n",
        "# Configuração do servidor SMTP do Gmail\n",
        "smtp_server = 'smtp.gmail.com'\n",
        "smtp_port = 587\n",
        "\n",
        "# Informações da conta de e-mail que será usada para enviar a mensagem\n",
        "remetente = 'gleison04lemos@gmail.com'\n",
        "senha = 'senha'\n",
        "\n",
        "# Informações do destinatário da mensagem\n",
        "destinatario = 'gleison04lemos@email.com'\n",
        "assunto = 'Enviando email com Python'\n",
        "mensagem = 'hackerman'\n",
        "\n",
        "# Criação da mensagem a ser enviada\n",
        "msg = MIMEText(mensagem)\n",
        "msg['From'] = remetente\n",
        "msg['To'] = destinatario\n",
        "msg['Subject'] = assunto\n",
        "\n",
        "# Autenticação com o servidor SMTP do Gmail\n",
        "with smtplib.SMTP(smtp_server, smtp_port) as smtp_obj:\n",
        "    # Login Credentials for sending the mail\n",
        "    smtp_obj.starttls()\n",
        "    smtp_obj.login(remetente, senha)\n",
        "    smtp_obj.sendmail(remetente, destinatario, msg.as_string())\n",
        "    print('Email enviado')\n",
        "\n",
        "print('E-mail enviado com sucesso.')\n"
      ],
      "metadata": {
        "colab": {
          "base_uri": "https://localhost:8080/"
        },
        "id": "aJzTFrJSRwBo",
        "outputId": "51be0e9b-7562-4dcd-b012-846acd0c7eca"
      },
      "execution_count": null,
      "outputs": [
        {
          "output_type": "stream",
          "name": "stdout",
          "text": [
            "E-mail enviado com sucesso.\n"
          ]
        }
      ]
    },
    {
      "cell_type": "code",
      "source": [
        "import time\n",
        "\n",
        "x = time.time()\n",
        "print(f'Local time: {time.ctime(x)}')"
      ],
      "metadata": {
        "colab": {
          "base_uri": "https://localhost:8080/"
        },
        "id": "RCApWWkI8a8S",
        "outputId": "db362226-1b4b-4593-f5e1-ec4798633763"
      },
      "execution_count": null,
      "outputs": [
        {
          "output_type": "stream",
          "name": "stdout",
          "text": [
            "Local time: Mon Mar 27 21:22:15 2023\n"
          ]
        }
      ]
    },
    {
      "cell_type": "code",
      "source": [
        "time.gmtime(8)"
      ],
      "metadata": {
        "colab": {
          "base_uri": "https://localhost:8080/"
        },
        "id": "_kJ7_gJy8bXb",
        "outputId": "bb01deff-7a1a-471d-9378-ada7e994ff68"
      },
      "execution_count": null,
      "outputs": [
        {
          "output_type": "execute_result",
          "data": {
            "text/plain": [
              "time.struct_time(tm_year=1970, tm_mon=1, tm_mday=1, tm_hour=0, tm_min=0, tm_sec=8, tm_wday=3, tm_yday=1, tm_isdst=0)"
            ]
          },
          "metadata": {},
          "execution_count": 47
        }
      ]
    },
    {
      "cell_type": "code",
      "source": [
        "import math\n",
        "\n",
        "n = 5.9\n",
        "print(math.ceil(n))"
      ],
      "metadata": {
        "id": "Jxh8J0e4_6B-",
        "colab": {
          "base_uri": "https://localhost:8080/"
        },
        "outputId": "db47cd08-ed83-40d9-e8fc-f9af5077b429"
      },
      "execution_count": 5,
      "outputs": [
        {
          "output_type": "stream",
          "name": "stdout",
          "text": [
            "6\n"
          ]
        }
      ]
    }
  ]
}