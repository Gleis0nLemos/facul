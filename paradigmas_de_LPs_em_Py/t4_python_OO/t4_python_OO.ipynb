{
  "nbformat": 4,
  "nbformat_minor": 0,
  "metadata": {
    "colab": {
      "provenance": []
    },
    "kernelspec": {
      "name": "python3",
      "display_name": "Python 3"
    },
    "language_info": {
      "name": "python"
    }
  },
  "cells": [
    {
      "cell_type": "markdown",
      "source": [
        "## MÓDULO 1\n",
        "\n",
        "---\n",
        "\n",
        "\n",
        "\n"
      ],
      "metadata": {
        "id": "A9DnFrbmJFw9"
      }
    },
    {
      "cell_type": "code",
      "source": [
        "class Pessoa: \n",
        "  def __init__(self, nome, ender):\n",
        "    self.set_nome(nome)\n",
        "    self.set_ender(ender)\n",
        "\n",
        "  def set_nome(self, nome):\n",
        "    self.nome = nome\n",
        "\n",
        "  def set_ender(self, ender):\n",
        "    self.ender = ender\n",
        "\n",
        "  def get_nome(self):\n",
        "    return self.nome\n",
        "\n",
        "  def get_ender(self):\n",
        "    return self.ender"
      ],
      "metadata": {
        "id": "wbgtWM2MJP84"
      },
      "execution_count": null,
      "outputs": []
    },
    {
      "cell_type": "code",
      "source": [
        "pessoa1 = Pessoa(\"Felipe\", \"Rua 1234\")\n",
        "pessoa2 = Pessoa(\"André\", \"Rua 4321\")"
      ],
      "metadata": {
        "id": "O0JtLDBjKj23"
      },
      "execution_count": null,
      "outputs": []
    },
    {
      "cell_type": "code",
      "source": [
        "print(f'Nome: {pessoa1.get_nome()}, Endereço: {pessoa1.get_ender()}')"
      ],
      "metadata": {
        "colab": {
          "base_uri": "https://localhost:8080/"
        },
        "id": "C94qbUQvUard",
        "outputId": "b13006fe-5501-4fb7-f661-3f5626365bdb"
      },
      "execution_count": null,
      "outputs": [
        {
          "output_type": "stream",
          "name": "stdout",
          "text": [
            "Nome: Felipe, Endereço: Rua 1234\n"
          ]
        }
      ]
    },
    {
      "cell_type": "code",
      "source": [
        "print(f'Nome: {pessoa2.get_nome()}, Endereço: {pessoa2.get_ender()}')"
      ],
      "metadata": {
        "colab": {
          "base_uri": "https://localhost:8080/"
        },
        "id": "dfE09CxCUdqi",
        "outputId": "c054e994-6cc3-4561-f1c8-ede5773121b1"
      },
      "execution_count": null,
      "outputs": [
        {
          "output_type": "stream",
          "name": "stdout",
          "text": [
            "Nome: André, Endereço: Rua 4321\n"
          ]
        }
      ]
    },
    {
      "cell_type": "code",
      "source": [
        "type(37_000)"
      ],
      "metadata": {
        "colab": {
          "base_uri": "https://localhost:8080/"
        },
        "id": "_TQX9bzlEd_A",
        "outputId": "99d8532b-fbdb-420a-e13f-cdc5573e8848"
      },
      "execution_count": null,
      "outputs": [
        {
          "output_type": "execute_result",
          "data": {
            "text/plain": [
              "int"
            ]
          },
          "metadata": {},
          "execution_count": 3
        }
      ]
    },
    {
      "cell_type": "code",
      "source": [
        "class Pessoa: \n",
        "  def __init__(self, nome, idade):\n",
        "    self.nome = nome\n",
        "    self.idade = idade\n",
        "\n",
        "  def imprimir(self):\n",
        "    print(self.nome, \" tem \", \n",
        "          self.idade, \" ano(s)\")\n",
        "\n",
        "  def getIdade(self):\n",
        "    return self.idade\n",
        "\n",
        "  def setIdade(self, idade):\n",
        "    self.idade = idade"
      ],
      "metadata": {
        "id": "3sKCVNMmEgtH"
      },
      "execution_count": null,
      "outputs": []
    }
  ]
}