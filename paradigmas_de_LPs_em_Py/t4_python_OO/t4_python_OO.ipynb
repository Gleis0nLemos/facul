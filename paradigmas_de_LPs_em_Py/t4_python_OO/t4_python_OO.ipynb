{
  "nbformat": 4,
  "nbformat_minor": 0,
  "metadata": {
    "colab": {
      "provenance": [],
      "collapsed_sections": [
        "A9DnFrbmJFw9"
      ]
    },
    "kernelspec": {
      "name": "python3",
      "display_name": "Python 3"
    },
    "language_info": {
      "name": "python"
    }
  },
  "cells": [
    {
      "cell_type": "markdown",
      "source": [
        "## MÓDULO 1\n",
        "\n",
        "---\n",
        "\n",
        "\n",
        "\n"
      ],
      "metadata": {
        "id": "A9DnFrbmJFw9"
      }
    },
    {
      "cell_type": "code",
      "source": [
        "class Pessoa: \n",
        "  def __init__(self, nome, ender):\n",
        "    self.set_nome(nome)\n",
        "    self.set_ender(ender)\n",
        "\n",
        "  def set_nome(self, nome):\n",
        "    self.nome = nome\n",
        "\n",
        "  def set_ender(self, ender):\n",
        "    self.ender = ender\n",
        "\n",
        "  def get_nome(self):\n",
        "    return self.nome\n",
        "\n",
        "  def get_ender(self):\n",
        "    return self.ender"
      ],
      "metadata": {
        "id": "wbgtWM2MJP84"
      },
      "execution_count": null,
      "outputs": []
    },
    {
      "cell_type": "code",
      "source": [
        "pessoa1 = Pessoa(\"Felipe\", \"Rua 1234\")\n",
        "pessoa2 = Pessoa(\"André\", \"Rua 4321\")"
      ],
      "metadata": {
        "id": "O0JtLDBjKj23"
      },
      "execution_count": null,
      "outputs": []
    },
    {
      "cell_type": "code",
      "source": [
        "print(f'Nome: {pessoa1.get_nome()}, Endereço: {pessoa1.get_ender()}')"
      ],
      "metadata": {
        "colab": {
          "base_uri": "https://localhost:8080/"
        },
        "id": "C94qbUQvUard",
        "outputId": "b13006fe-5501-4fb7-f661-3f5626365bdb"
      },
      "execution_count": null,
      "outputs": [
        {
          "output_type": "stream",
          "name": "stdout",
          "text": [
            "Nome: Felipe, Endereço: Rua 1234\n"
          ]
        }
      ]
    },
    {
      "cell_type": "code",
      "source": [
        "print(f'Nome: {pessoa2.get_nome()}, Endereço: {pessoa2.get_ender()}')"
      ],
      "metadata": {
        "colab": {
          "base_uri": "https://localhost:8080/"
        },
        "id": "dfE09CxCUdqi",
        "outputId": "c054e994-6cc3-4561-f1c8-ede5773121b1"
      },
      "execution_count": null,
      "outputs": [
        {
          "output_type": "stream",
          "name": "stdout",
          "text": [
            "Nome: André, Endereço: Rua 4321\n"
          ]
        }
      ]
    },
    {
      "cell_type": "code",
      "source": [
        "type(37_000)"
      ],
      "metadata": {
        "colab": {
          "base_uri": "https://localhost:8080/"
        },
        "id": "_TQX9bzlEd_A",
        "outputId": "99d8532b-fbdb-420a-e13f-cdc5573e8848"
      },
      "execution_count": null,
      "outputs": [
        {
          "output_type": "execute_result",
          "data": {
            "text/plain": [
              "int"
            ]
          },
          "metadata": {},
          "execution_count": 3
        }
      ]
    },
    {
      "cell_type": "code",
      "source": [
        "class Pessoa: \n",
        "  def __init__(self, nome, idade):\n",
        "    self.nome = nome\n",
        "    self.idade = idade\n",
        "\n",
        "  def imprimir(self):\n",
        "    print(self.nome, \" tem \", \n",
        "          self.idade, \" ano(s)\")\n",
        "\n",
        "  def getIdade(self):\n",
        "    return self.idade\n",
        "\n",
        "  def setIdade(self, idade):\n",
        "    self.idade = idade"
      ],
      "metadata": {
        "id": "3sKCVNMmEgtH"
      },
      "execution_count": null,
      "outputs": []
    },
    {
      "cell_type": "markdown",
      "source": [
        "## MÓDULO 2\n",
        "\n",
        "---\n",
        "\n",
        "\n",
        "\n"
      ],
      "metadata": {
        "id": "0ERQO30xdVfz"
      }
    },
    {
      "cell_type": "code",
      "source": [
        "# Agregação\n",
        "\n",
        "# Classe Salário\n",
        "class Salario:\n",
        "  def __init__(self, base, bonus):\n",
        "    self.base = base\n",
        "    self.bonus = bonus\n",
        "\n",
        "  def salario_anual(self):\n",
        "    return (self.base*12)+self.bonus"
      ],
      "metadata": {
        "id": "IRao4grpdZAL"
      },
      "execution_count": null,
      "outputs": []
    },
    {
      "cell_type": "code",
      "source": [
        "# Classe Empregado\n",
        "class Empregado:\n",
        "  def __init__(self, nome, idade, salario):\n",
        "    self.nome = nome\n",
        "    self.idade = idade\n",
        "    self.salario_agregado = salario # Agregação\n",
        "\n",
        "  def salario_total(self):\n",
        "    return self.salario_agregado.salario_anual()"
      ],
      "metadata": {
        "id": "MRIBE1PDdywG"
      },
      "execution_count": null,
      "outputs": []
    },
    {
      "cell_type": "code",
      "source": [
        "salario = Salario(10000, 700)\n",
        "emp = Empregado('Musashi', 46, salario)\n",
        "print(emp.salario_total())"
      ],
      "metadata": {
        "colab": {
          "base_uri": "https://localhost:8080/"
        },
        "id": "BBXSRo-NezwC",
        "outputId": "a3533b42-b205-4a65-ec0a-517b9f48045d"
      },
      "execution_count": null,
      "outputs": [
        {
          "output_type": "stream",
          "name": "stdout",
          "text": [
            "120700\n"
          ]
        }
      ]
    },
    {
      "cell_type": "code",
      "source": [
        "salario.salario_anual()"
      ],
      "metadata": {
        "colab": {
          "base_uri": "https://localhost:8080/"
        },
        "id": "UnoqKe8xfQcP",
        "outputId": "297beb84-447c-48eb-8bc4-2d420f07d269"
      },
      "execution_count": null,
      "outputs": [
        {
          "output_type": "execute_result",
          "data": {
            "text/plain": [
              "120700"
            ]
          },
          "metadata": {},
          "execution_count": 4
        }
      ]
    },
    {
      "cell_type": "code",
      "source": [
        "# Método de Classe x Método Estático\n",
        "\n",
        "from datetime import date\n",
        "class Pessoa:\n",
        "  def __init__(self, nome, idade):\n",
        "    self.nome = nome\n",
        "    self.idade = idade\n",
        "  # Um método de classe para criar\n",
        "  # Um objeto Pessoa através do ano de nascimento.\n",
        "  @classmethod\n",
        "  def apartirAnoNascimento(cls, nome, ano):\n",
        "    return cls(nome, date.today().year - ano)\n",
        "  # Método Estático: Verificar se é maior de idade.\n",
        "  @staticmethod\n",
        "  def ehMaiorIdade(idade):\n",
        "    return idade >= 18\n",
        "pessoa1 = Pessoa('Maria', 26)\n",
        "pessoa2 = Pessoa.apartirAnoNascimento('Ana', 2006)\n",
        "print(pessoa1.idade)\n",
        "print(pessoa2.idade)\n",
        "# Imprimir o resultado\n",
        "print(Pessoa.ehMaiorIdade(17))"
      ],
      "metadata": {
        "id": "_h49swayfneJ",
        "colab": {
          "base_uri": "https://localhost:8080/"
        },
        "outputId": "2320a4a7-93df-4106-f04d-0c3b1496d709"
      },
      "execution_count": null,
      "outputs": [
        {
          "output_type": "stream",
          "name": "stdout",
          "text": [
            "26\n",
            "17\n",
            "False\n"
          ]
        }
      ]
    },
    {
      "cell_type": "code",
      "source": [
        "class A():\n",
        "  def f(self):\n",
        "    print(\"foo\")\n",
        "\n",
        "\n",
        "def main():\n",
        "  obj_A = A() # Objeto sendo instanciado\n",
        "  obj_A.f()\n",
        "\n",
        "\n",
        "if __name__ == \"__main__\":\n",
        "  main()"
      ],
      "metadata": {
        "colab": {
          "base_uri": "https://localhost:8080/"
        },
        "id": "-lFMJukTmIGp",
        "outputId": "7be982ec-1845-49a2-b0d0-9fe49d9de78e"
      },
      "execution_count": null,
      "outputs": [
        {
          "output_type": "stream",
          "name": "stdout",
          "text": [
            "foo\n"
          ]
        }
      ]
    },
    {
      "cell_type": "code",
      "source": [
        "# Encapsulamento\n",
        "\n",
        "def sacar(self, valor):\n",
        "  if self.saldo < valor:\n",
        "     return False\n",
        "  else:\n",
        "     self.saldo -= valor\n",
        "     self.extrato.transacoes.append([\"SAQUE\", valor, \"Data\", datetime.datetime.today()])\n",
        "     return True"
      ],
      "metadata": {
        "id": "prh5ODwbkKQm"
      },
      "execution_count": null,
      "outputs": []
    },
    {
      "cell_type": "code",
      "source": [
        "class Conta:\n",
        "    def __init__(self, numero):\n",
        "        self.numero = numero\n",
        "        self._saldo = 0\n",
        "        \n",
        "    @property\n",
        "    def saldo(self):\n",
        "        return self._saldo\n",
        "    \n",
        "    @saldo.setter\n",
        "    def saldo(self, saldo):\n",
        "        if saldo < 0:\n",
        "            print (\"saldo inválido\")\n",
        "        else:\n",
        "            self._saldo = saldo\n",
        "            \n",
        "def main():\n",
        "    conta = Conta(1)\n",
        "    conta.saldo = 1000 # usando o @saldo.setter\n",
        "    print(f'saldo da conta = {conta.saldo}') # usando o @property\n",
        "    \n",
        "if __name__ == \"__main__\":\n",
        "    main()"
      ],
      "metadata": {
        "colab": {
          "base_uri": "https://localhost:8080/"
        },
        "id": "vLlbMcPAkJou",
        "outputId": "45a03d56-9e1c-4a17-fda9-ecc59b0116f9"
      },
      "execution_count": 1,
      "outputs": [
        {
          "output_type": "stream",
          "name": "stdout",
          "text": [
            "saldo da conta = 1000\n"
          ]
        }
      ]
    },
    {
      "cell_type": "code",
      "source": [
        "class Circulo():\n",
        "  total_circulos = 0\n",
        "\n",
        "  def __init__(self, pontox, pontoy, raio):\n",
        "    self.pontox = pontox\n",
        "    self.pontoy = pontoy\n",
        "    self.raio = raio\n",
        "    Circulo.total_circulos +=1\n",
        "\n",
        "circ1 = Circulo(1,1,10)\n",
        "circ1.total_circulos\n",
        "circ2 = Circulo(2, 2, 20)\n",
        "circ2.total_circulos\n",
        "Circulo.total_circulos"
      ],
      "metadata": {
        "colab": {
          "base_uri": "https://localhost:8080/"
        },
        "id": "nR1lKuF0xdlL",
        "outputId": "453de2d0-9d61-4999-bdcb-37c8f77af617"
      },
      "execution_count": 17,
      "outputs": [
        {
          "output_type": "execute_result",
          "data": {
            "text/plain": [
              "2"
            ]
          },
          "metadata": {},
          "execution_count": 17
        }
      ]
    },
    {
      "cell_type": "code",
      "source": [
        "class Conta:\n",
        "\n",
        "  def __init__(self, clientes, numero, saldo):\n",
        "    self.clientes = clientes\n",
        "    self.numero = numero\n",
        "    self.saldo = saldo\n",
        "\n",
        "  def __gerar_saldo(self):\n",
        "    print(f\"Número: {self.numero}, \\nSaldo: {self.saldo}\")"
      ],
      "metadata": {
        "id": "UtXWenQF21IZ"
      },
      "execution_count": 15,
      "outputs": []
    },
    {
      "cell_type": "code",
      "source": [
        "import math\n",
        "\n",
        "class Math:\n",
        "\n",
        "  @staticmethod\n",
        "  def sqrt(x):\n",
        "    return math.sqrt(x)\n",
        "\n",
        "Math.sqrt(20)"
      ],
      "metadata": {
        "colab": {
          "base_uri": "https://localhost:8080/"
        },
        "id": "1lMVF997U6bZ",
        "outputId": "913807d5-4937-4fc0-ba3e-510c60022840"
      },
      "execution_count": 21,
      "outputs": [
        {
          "output_type": "execute_result",
          "data": {
            "text/plain": [
              "4.47213595499958"
            ]
          },
          "metadata": {},
          "execution_count": 21
        }
      ]
    },
    {
      "cell_type": "code",
      "source": [
        "class Pessoa:\n",
        "  _contador = 0\n",
        "\n",
        "  def __init__(self, nome, idade):\n",
        "    self.nome = nome\n",
        "    self.idade = idade\n",
        "    Pessoa._contador += 1\n",
        "\n",
        "  def imprimir(self):\n",
        "    print(self.nome, \" tem \", self.idade, \" ano(s)\")\n",
        "\n",
        "  @property\n",
        "  def contador(self):\n",
        "    return type(self)._contador #type de self é Pessoa, ou seja, retorna Pessoa._contador. \n",
        "                                #Muito dahora  \n",
        "  p1 = Pessoa(\"Carlos\", 18)\n",
        "  print(p1.contador)\n",
        "  print(Pessoa._contador)"
      ],
      "metadata": {
        "colab": {
          "base_uri": "https://localhost:8080/"
        },
        "id": "a8NZj727j8Bn",
        "outputId": "dbadff8d-274d-41f0-d6f7-7e3325eeaf75"
      },
      "execution_count": 25,
      "outputs": [
        {
          "output_type": "stream",
          "name": "stdout",
          "text": [
            "1\n",
            "1\n"
          ]
        }
      ]
    },
    {
      "cell_type": "code",
      "source": [
        "class NomeCompleto:\n",
        "  def __init__(self, nome, sobrenome):\n",
        "    self.nome = nome\n",
        "    self.sobrenmome = sobrenome\n",
        "\n",
        "  @classmethod\n",
        "  def fromString(cls, texto):\n",
        "    nome, sobrenome = map(str, texto.split(' '))\n",
        "    objeto = cls(nome, sobrenome)\n",
        "    return objeto\n",
        "\n",
        "  @staticmethod\n",
        "  def isValid(texto):\n",
        "    nomes = texto.split(' ')\n",
        "    return len(nomes) > 1\n",
        "\n",
        "registro1 = NomeCompleto.fromString(\"Luiz Braga\")"
      ],
      "metadata": {
        "id": "JMz5GYhFkyyO"
      },
      "execution_count": 38,
      "outputs": []
    },
    {
      "cell_type": "code",
      "source": [
        "class Conta:\n",
        "\n",
        "  def __init__(self, clientes, numero, saldo):\n",
        "    self.clientes = clientes\n",
        "    self.numero = numero\n",
        "    self.saldo = saldo\n",
        "\n",
        "  def depositar(self, valor):\n",
        "    self.saldo += valor\n",
        "\n",
        "  def sacar(self, valor):\n",
        "    if self.saldo < valor:\n",
        "      return False\n",
        "    else: \n",
        "      self.saldo -= valor\n",
        "      return True    "
      ],
      "metadata": {
        "id": "Tl1ki3OSnE1p"
      },
      "execution_count": 40,
      "outputs": []
    },
    {
      "cell_type": "code",
      "source": [
        "class Cliente:\n",
        "\n",
        "  def __init__(self, cpf, nome, endereco):\n",
        "    self.cpf = cpf\n",
        "    self.nome = nome\n",
        "    self.endereco = endereco\n",
        "\n",
        "c1 = Cliente(\"111111111-11\", \"Ana\", \"Rua das Marrecas\")\n",
        "c2 = Cliente(\"222222222-22\", \"Carlos\", \"Rua dosb Gansos \")"
      ],
      "metadata": {
        "id": "_aTpTHT0r3GF"
      },
      "execution_count": 45,
      "outputs": []
    },
    {
      "cell_type": "code",
      "source": [
        "conta = Conta([c1, c2], 24237891, 2500.00)"
      ],
      "metadata": {
        "id": "eDLDy_JrsO24"
      },
      "execution_count": 46,
      "outputs": []
    },
    {
      "cell_type": "code",
      "source": [
        "class Extrato:\n",
        "\n",
        "  def __init__(self):\n",
        "    self.transacoes = []\n",
        "\n",
        "  def imprimir(self):\n",
        "    for p in self.transacoes:\n",
        "      print(p[0], p[1])\n",
        "\n",
        "class Conta:\n",
        "\n",
        "  def __init__(self, clientes, numero, saldo):\n",
        "    self.clientes = clientes\n",
        "    self.numero = numero\n",
        "    self.saldo = saldo\n",
        "    self.extrato = Extrato()\n",
        "\n",
        "  def depositar(self, valor):\n",
        "      self.saldo += valor\n",
        "      self.extrato.transacoes.append([\"DEPÓSITO\", valor])\n",
        "\n",
        "  def sacar(self, valor):\n",
        "    if self.saldo < valor:\n",
        "      return False\n",
        "    else: \n",
        "      self.saldo -= valor\n",
        "      self.extrato.transacoes.append([\"SAQUE\", valor])\n",
        "      return True "
      ],
      "metadata": {
        "id": "DQgmPUR6s4cL"
      },
      "execution_count": 49,
      "outputs": []
    },
    {
      "cell_type": "code",
      "source": [
        "c1 = Cliente(\"111111111-11\", \"Ana\", \"Rua das Marrecas\")\n",
        "c2 = Cliente(\"222222222-22\", \"Carlos\", \"Rua dosb Gansos \")"
      ],
      "metadata": {
        "id": "pMYPo0kstziL"
      },
      "execution_count": 50,
      "outputs": []
    },
    {
      "cell_type": "code",
      "source": [
        "conta = Conta([c1, c2], 24237891, 2500.00)"
      ],
      "metadata": {
        "id": "dNXEZWLRvNqf"
      },
      "execution_count": 51,
      "outputs": []
    },
    {
      "cell_type": "code",
      "source": [
        "conta.depositar(1000)\n",
        "conta.sacar(500)\n",
        "conta.extrato.imprimir()"
      ],
      "metadata": {
        "colab": {
          "base_uri": "https://localhost:8080/"
        },
        "id": "xQvGhTUKvOTC",
        "outputId": "d81779f9-f991-4456-c115-c5c18ba355c4"
      },
      "execution_count": 52,
      "outputs": [
        {
          "output_type": "stream",
          "name": "stdout",
          "text": [
            "DEPÓSITO 1000\n",
            "SAQUE 500\n"
          ]
        }
      ]
    }
  ]
}