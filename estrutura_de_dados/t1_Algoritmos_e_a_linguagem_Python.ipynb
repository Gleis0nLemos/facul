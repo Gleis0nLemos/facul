{
  "nbformat": 4,
  "nbformat_minor": 0,
  "metadata": {
    "colab": {
      "provenance": []
    },
    "kernelspec": {
      "name": "python3",
      "display_name": "Python 3"
    },
    "language_info": {
      "name": "python"
    }
  },
  "cells": [
    {
      "cell_type": "markdown",
      "source": [
        "## Módulo 4\n",
        "\n",
        "\n",
        "\n",
        "\n",
        "\n"
      ],
      "metadata": {
        "id": "nBQrQ7p36jNw"
      }
    },
    {
      "cell_type": "code",
      "execution_count": 1,
      "metadata": {
        "id": "Ucaezh2S5ZA-"
      },
      "outputs": [],
      "source": [
        "def trocar(seq, i):\n",
        "  aux = seq[i]\n",
        "  seq[i] = seq[i+1]\n",
        "  seq[i+1] = aux"
      ]
    },
    {
      "cell_type": "code",
      "source": [
        "seq = [1, 15, 22, 6, 7, 19, 8, 3, 5, 20]"
      ],
      "metadata": {
        "id": "XT7oxh_m69Zh"
      },
      "execution_count": 2,
      "outputs": []
    },
    {
      "cell_type": "code",
      "source": [
        "troca = 1"
      ],
      "metadata": {
        "id": "g0-VGLaK7FxC"
      },
      "execution_count": 3,
      "outputs": []
    },
    {
      "cell_type": "code",
      "source": [
        "while troca:\n",
        "  troca = 0\n",
        "  i = 0\n",
        "\n",
        "  for i in range(len(seq)-1):\n",
        "    if seq[i] > seq[i+1]:\n",
        "        trocar(seq, i)\n",
        "        troca = 1"
      ],
      "metadata": {
        "id": "dI-q1WCm7IRG"
      },
      "execution_count": 4,
      "outputs": []
    },
    {
      "cell_type": "code",
      "source": [
        "print(seq)"
      ],
      "metadata": {
        "colab": {
          "base_uri": "https://localhost:8080/"
        },
        "id": "krmwYXti7dxK",
        "outputId": "b5ca18cc-06c1-4872-de10-d357b695d520"
      },
      "execution_count": 5,
      "outputs": [
        {
          "output_type": "stream",
          "name": "stdout",
          "text": [
            "[1, 3, 5, 6, 7, 8, 15, 19, 20, 22]\n"
          ]
        }
      ]
    }
  ]
}